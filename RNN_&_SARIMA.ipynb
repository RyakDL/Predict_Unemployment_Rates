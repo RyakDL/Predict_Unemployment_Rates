{
 "cells": [
  {
   "cell_type": "code",
   "execution_count": 1,
   "id": "89faa775-ef57-45b7-968e-c9430de6e89f",
   "metadata": {
    "tags": []
   },
   "outputs": [],
   "source": [
    "import pandas as pd\n",
    "import os\n",
    "import numpy as np\n",
    "import matplotlib.pyplot as plt\n",
    "from statsmodels.tsa.statespace.sarimax import SARIMAX"
   ]
  },
  {
   "cell_type": "code",
   "execution_count": 2,
   "id": "8fca6d20-5353-490e-a041-0dae63b653f9",
   "metadata": {
    "tags": []
   },
   "outputs": [
    {
     "data": {
      "text/plain": [
       "<bound method NDFrame.head of           Date  UNRATE\n",
       "0   1948-01-01     3.4\n",
       "1   1948-02-01     3.8\n",
       "2   1948-03-01     4.0\n",
       "3   1948-04-01     3.9\n",
       "4   1948-05-01     3.5\n",
       "..         ...     ...\n",
       "909 2023-10-01     3.8\n",
       "910 2023-11-01     3.7\n",
       "911 2023-12-01     3.7\n",
       "912 2024-01-01     3.7\n",
       "913 2024-02-01     3.9\n",
       "\n",
       "[914 rows x 2 columns]>"
      ]
     },
     "execution_count": 2,
     "metadata": {},
     "output_type": "execute_result"
    }
   ],
   "source": [
    "#Read Unemployment file\n",
    "\n",
    "df = pd.read_excel('UR_data.xlsx')\n",
    "\n",
    "df.head"
   ]
  },
  {
   "cell_type": "code",
   "execution_count": 3,
   "id": "6d5f6c45-c4ad-4dd2-b250-879675e540c8",
   "metadata": {
    "tags": []
   },
   "outputs": [
    {
     "data": {
      "text/plain": [
       "Index(['Date', 'UNRATE'], dtype='object')"
      ]
     },
     "execution_count": 3,
     "metadata": {},
     "output_type": "execute_result"
    }
   ],
   "source": [
    "df.columns"
   ]
  },
  {
   "cell_type": "code",
   "execution_count": 4,
   "id": "5400dd8e-9fd3-4bfd-94c9-7fcbbd3a385d",
   "metadata": {
    "tags": []
   },
   "outputs": [
    {
     "data": {
      "text/plain": [
       "<bound method NDFrame.head of             UNRATE\n",
       "Date              \n",
       "1948-01-01     3.4\n",
       "1948-02-01     3.8\n",
       "1948-03-01     4.0\n",
       "1948-04-01     3.9\n",
       "1948-05-01     3.5\n",
       "...            ...\n",
       "2023-10-01     3.8\n",
       "2023-11-01     3.7\n",
       "2023-12-01     3.7\n",
       "2024-01-01     3.7\n",
       "2024-02-01     3.9\n",
       "\n",
       "[914 rows x 1 columns]>"
      ]
     },
     "execution_count": 4,
     "metadata": {},
     "output_type": "execute_result"
    }
   ],
   "source": [
    "df.set_index('Date', inplace = True)\n",
    "df.head"
   ]
  },
  {
   "cell_type": "code",
   "execution_count": 5,
   "id": "c02cdbd9-ffdf-4041-99c6-c10eae4f9b5b",
   "metadata": {
    "tags": []
   },
   "outputs": [],
   "source": [
    "#Set the dataset to train\n",
    "from_date = '1948-01-01'\n",
    "to_date = '2024-02-01'\n",
    "\n",
    "UR = df['UNRATE'].loc[from_date:to_date].values"
   ]
  },
  {
   "cell_type": "code",
   "execution_count": 6,
   "id": "0048d194-c53b-4cc8-9da8-e0fe1d188830",
   "metadata": {
    "tags": []
   },
   "outputs": [
    {
     "name": "stdout",
     "output_type": "stream",
     "text": [
      "RUNNING THE L-BFGS-B CODE\n",
      "\n",
      "           * * *\n",
      "\n",
      "Machine precision = 2.220D-16\n",
      " N =            5     M =           10\n",
      "\n",
      "At X0         0 variables are exactly at the bounds\n",
      "\n",
      "At iterate    0    f=  5.47170D-01    |proj g|=  5.29053D-03\n",
      "\n",
      "At iterate    1    f=  5.47168D-01    |proj g|=  1.71118D-03\n",
      "\n",
      "At iterate    2    f=  5.47168D-01    |proj g|=  1.51749D-03\n",
      "\n",
      "At iterate    3    f=  5.47165D-01    |proj g|=  1.39463D-03\n",
      "\n",
      "At iterate    4    f=  5.47163D-01    |proj g|=  1.77156D-03\n",
      "\n",
      "At iterate    5    f=  5.47154D-01    |proj g|=  2.89444D-03\n",
      "\n",
      "At iterate    6    f=  5.47132D-01    |proj g|=  5.86816D-03\n",
      "\n",
      "At iterate    7    f=  5.47058D-01    |proj g|=  1.25040D-02\n",
      "\n",
      "At iterate    8    f=  5.46846D-01    |proj g|=  3.66820D-02\n",
      "\n",
      "At iterate    9    f=  5.46587D-01    |proj g|=  3.24898D-02\n",
      "\n",
      "At iterate   10    f=  5.45813D-01    |proj g|=  3.43608D-02\n",
      "\n",
      "At iterate   11    f=  5.45206D-01    |proj g|=  1.08728D-02\n",
      "\n",
      "At iterate   12    f=  5.45129D-01    |proj g|=  2.24284D-02\n",
      "\n",
      "At iterate   13    f=  5.45056D-01    |proj g|=  4.94264D-03\n",
      "\n",
      "At iterate   14    f=  5.45042D-01    |proj g|=  3.75608D-03\n",
      "\n",
      "At iterate   15    f=  5.45004D-01    |proj g|=  2.38805D-03\n",
      "\n",
      "At iterate   16    f=  5.44997D-01    |proj g|=  2.03948D-04\n",
      "\n",
      "At iterate   17    f=  5.44997D-01    |proj g|=  1.29859D-05\n",
      "\n",
      "At iterate   18    f=  5.44997D-01    |proj g|=  1.22619D-06\n",
      "\n",
      "           * * *\n",
      "\n",
      "Tit   = total number of iterations\n",
      "Tnf   = total number of function evaluations\n",
      "Tnint = total number of segments explored during Cauchy searches\n",
      "Skip  = number of BFGS updates skipped\n",
      "Nact  = number of active bounds at final generalized Cauchy point\n",
      "Projg = norm of the final projected gradient\n",
      "F     = final function value\n",
      "\n",
      "           * * *\n",
      "\n",
      "   N    Tit     Tnf  Tnint  Skip  Nact     Projg        F\n",
      "    5     18     25      1     0     0   1.226D-06   5.450D-01\n",
      "  F =  0.54499670914732834     \n",
      "\n",
      "CONVERGENCE: NORM_OF_PROJECTED_GRADIENT_<=_PGTOL            \n"
     ]
    },
    {
     "name": "stderr",
     "output_type": "stream",
     "text": [
      " This problem is unconstrained.\n"
     ]
    }
   ],
   "source": [
    "#Train the SARIMA model\n",
    "train, test = UR[:-1], UR[-1]\n",
    "\n",
    "#Lag by 3 periods, differencing order = 1, moving average window = 1\n",
    "#seasonal_order set to 0 indicating no seasons\n",
    "model = SARIMAX(train, order =(3,1,1), seasonal_order = (0,0,0,0))\n",
    "\n",
    "SAR_results = model.fit(disp = 1)\n",
    "SAR_forecast = SAR_results.forecast()\n",
    "SAR_predicted = SAR_forecast[0]"
   ]
  },
  {
   "cell_type": "code",
   "execution_count": 7,
   "id": "bc9e20f9-e91e-4086-9547-934fd17c39b5",
   "metadata": {
    "tags": []
   },
   "outputs": [
    {
     "name": "stdout",
     "output_type": "stream",
     "text": [
      "Predicted SARIMA UR on 2024-02-01: 3.7\n",
      "Actual SARIMA UR on 2024-02-01: 3.9\n"
     ]
    }
   ],
   "source": [
    "#Print results\n",
    "print(f'Predicted SARIMA UR on {to_date}: {round(SAR_predicted, 1)}')\n",
    "print(f'Actual SARIMA UR on {to_date}: {round(test, 1)}')"
   ]
  },
  {
   "cell_type": "code",
   "execution_count": 8,
   "id": "ce714330-1250-41d9-bfc3-4c9d96a8d2ba",
   "metadata": {
    "tags": []
   },
   "outputs": [],
   "source": [
    "#HWES model\n",
    "from statsmodels.tsa.holtwinters import ExponentialSmoothing"
   ]
  },
  {
   "cell_type": "code",
   "execution_count": 9,
   "id": "cd08bc2b-d4f2-4586-97ad-235a65bbe312",
   "metadata": {
    "tags": []
   },
   "outputs": [],
   "source": [
    "#Train HWES model\n",
    "train, test = UR[:-1], UR[-1]\n",
    "model = ExponentialSmoothing(train)\n",
    "\n",
    "HWES_results = model.fit()\n",
    "\n",
    "HWES_forecast = HWES_results.forecast()\n",
    "HWES_predicted = HWES_forecast[0]"
   ]
  },
  {
   "cell_type": "code",
   "execution_count": 10,
   "id": "45d8f463-0ed9-46b7-a7ac-675330613c75",
   "metadata": {
    "tags": []
   },
   "outputs": [
    {
     "name": "stdout",
     "output_type": "stream",
     "text": [
      "Predicted HWES UR on 2024-02-01: 3.7\n",
      "Actual HWES UR on 2024-02-01: 3.9\n"
     ]
    }
   ],
   "source": [
    "#Print results\n",
    "print(f'Predicted HWES UR on {to_date}: {round(HWES_predicted, 1)}')\n",
    "print(f'Actual HWES UR on {to_date}: {round(test, 1)}')"
   ]
  },
  {
   "cell_type": "code",
   "execution_count": 11,
   "id": "6e4dc5e0-0609-40fc-bd65-3a11028bdb6d",
   "metadata": {
    "tags": []
   },
   "outputs": [],
   "source": [
    "#RNN Model\n",
    "import torch.nn as nn\n",
    "import torch\n",
    "from sklearn.preprocessing import MinMaxScaler"
   ]
  },
  {
   "cell_type": "code",
   "execution_count": 12,
   "id": "1bfeef51-4d76-4c3a-ac77-ddef790dfd6b",
   "metadata": {
    "tags": []
   },
   "outputs": [],
   "source": [
    "#Code to load the data and return function\n",
    "def get_unrate_ts():\n",
    "    rnn_df = pd.read_csv('UR_data.csv')\n",
    "    #transform the dataset to work with scaler\n",
    "    ts = rnn_df['UNRATE'].astype(int).values.reshape(-1,1)\n",
    "    return ts"
   ]
  },
  {
   "cell_type": "code",
   "execution_count": 13,
   "id": "b0c69177-5fed-4d94-a5dc-7267957b712a",
   "metadata": {
    "tags": []
   },
   "outputs": [
    {
     "name": "stdout",
     "output_type": "stream",
     "text": [
      "Shape of ts: (914, 1)\n"
     ]
    }
   ],
   "source": [
    "#print the shape of the dataset\n",
    "ts = get_unrate_ts()\n",
    "print(f\"Shape of ts: {ts.shape}\")"
   ]
  },
  {
   "cell_type": "code",
   "execution_count": 14,
   "id": "c848d109-2214-4bf8-8c15-bd23fa74f414",
   "metadata": {
    "tags": []
   },
   "outputs": [],
   "source": [
    "#RNN class\n",
    "class RNN(nn.Module):\n",
    "\n",
    "    def __init__(self,\n",
    "                 hidden_size,\n",
    "                 in_size = 1,\n",
    "                 out_size = 1):\n",
    "        super(RNN, self).__init__()\n",
    "        self.rnn = nn.RNN(\n",
    "            input_size = in_size,\n",
    "            hidden_size = hidden_size,\n",
    "            batch_first = True)\n",
    "        self.fc = nn.Linear(hidden_size, out_size)\n",
    "\n",
    "    def forward(self, x, h = None):\n",
    "        out, _ = self.rnn(x, h)\n",
    "        last_hidden_states = out[:, -1]\n",
    "        out = self.fc(last_hidden_states)\n",
    "        return out, last_hidden_states"
   ]
  },
  {
   "cell_type": "code",
   "execution_count": 15,
   "id": "ff535f77-ff43-4d06-a605-d6cfb87f1231",
   "metadata": {
    "tags": []
   },
   "outputs": [],
   "source": [
    "# length of sliding window\n",
    "features = 2 #'Date' and 'UNRATE'\n",
    "\n",
    "# length of test dataset\n",
    "test_ts_len = 150\n",
    "\n",
    "# size of RNN hidden state\n",
    "rnn_hidden_size = 24\n",
    "\n",
    "#Optimizer learning rate\n",
    "learning_rate = 0.02\n",
    "training_epochs = 500"
   ]
  },
  {
   "cell_type": "code",
   "execution_count": 16,
   "id": "9de2ec4b-d6b8-48c1-8069-e21938e56fe4",
   "metadata": {
    "tags": []
   },
   "outputs": [],
   "source": [
    "#Get Training datasets code\n",
    "def get_training_datasets(ts, features, test_len):\n",
    "    X, Y = sliding_window(ts, features)\n",
    "\n",
    "    X_train, Y_train, X_test, Y_test = X[0:-test_len],\\\n",
    "                                       Y[0:-test_len],\\\n",
    "                                       X[-test_len:],\\\n",
    "                                       Y[-test_len:]\n",
    "\n",
    "    train_len = round(len(ts) * 0.70)\n",
    "\n",
    "    # Ensure at least one element remains for validation after training split\n",
    "    #val_len = max(len(X_train) - train_len, 1)  # Take max to avoid negative value\n",
    "    \n",
    "    X_train, X_val, Y_train, Y_val = X_train[0:train_len],\\\n",
    "                                     X_train[train_len:],\\\n",
    "                                     Y_train[0:train_len],\\\n",
    "                                     Y_train[train_len:]\n",
    "\n",
    "    # Print the lengths for debugging\n",
    "    print(f\"Length of X_train: {len(X_train)}\")\n",
    "    print(f\"Length of X_val: {len(X_val)}\")\n",
    "    print(f\"Length of X_test: {len(X_test)}\")\n",
    "    \n",
    "    x_train = torch.tensor(data = X_train).float()\n",
    "    y_train = torch.tensor(data = Y_train).float()\n",
    "\n",
    "    x_val = torch.tensor(data = X_val).float()\n",
    "    y_val = torch.tensor(data = Y_val).float()\n",
    "\n",
    "    x_test = torch.tensor(data = X_test).float()\n",
    "    y_test = torch.tensor(data = Y_test).float()\n",
    "\n",
    "    return x_train, x_val, x_test,\\\n",
    "           y_train.squeeze(1), y_val.squeeze(1), y_test.squeeze(1)"
   ]
  },
  {
   "cell_type": "code",
   "execution_count": 17,
   "id": "28a1cacc-8eaa-4a8c-9103-bef0f4197841",
   "metadata": {},
   "outputs": [],
   "source": [
    "#Get sliding window code\n",
    "def sliding_window(ts, features):\n",
    "    X = []\n",
    "    Y = []\n",
    "\n",
    "    for i in range(features + 1, len(ts) + 1):\n",
    "        X.append(ts[i - (features + 1):i - 1])\n",
    "        Y.append(ts[i - 1])  # Directly append the target value\n",
    "\n",
    "    return X, Y"
   ]
  },
  {
   "cell_type": "code",
   "execution_count": 18,
   "id": "bc357f18-128c-4565-8b30-88dcefc8530e",
   "metadata": {
    "tags": []
   },
   "outputs": [
    {
     "name": "stdout",
     "output_type": "stream",
     "text": [
      "Length of X_train: 640\n",
      "Length of X_val: 122\n",
      "Length of X_test: 150\n"
     ]
    },
    {
     "name": "stderr",
     "output_type": "stream",
     "text": [
      "/var/folders/pr/r9s7fv8d3hl7zl078q3rzs_00000gn/T/ipykernel_21281/1431604950.py:25: UserWarning: Creating a tensor from a list of numpy.ndarrays is extremely slow. Please consider converting the list to a single numpy.ndarray with numpy.array() before converting to a tensor. (Triggered internally at /Users/runner/work/pytorch/pytorch/pytorch/torch/csrc/utils/tensor_new.cpp:233.)\n",
      "  x_train = torch.tensor(data = X_train).float()\n"
     ]
    }
   ],
   "source": [
    "#Scale the dataset for training\n",
    "ts = get_unrate_ts()\n",
    "\n",
    "scaler = MinMaxScaler()\n",
    "scaled_ts = scaler.fit_transform(ts)\n",
    "\n",
    "x_train, x_val, x_test, y_train, y_val, y_test =get_training_datasets(scaled_ts, features, test_ts_len)"
   ]
  },
  {
   "cell_type": "code",
   "execution_count": 19,
   "id": "2c9ad29d-327e-45ba-9073-7be5282728d1",
   "metadata": {},
   "outputs": [
    {
     "data": {
      "text/plain": [
       "RNN(\n",
       "  (rnn): RNN(1, 24, batch_first=True)\n",
       "  (fc): Linear(in_features=24, out_features=1, bias=True)\n",
       ")"
      ]
     },
     "execution_count": 19,
     "metadata": {},
     "output_type": "execute_result"
    }
   ],
   "source": [
    "# Initialize the RNN model\n",
    "model = RNN(hidden_size = rnn_hidden_size)\n",
    "model.train()"
   ]
  },
  {
   "cell_type": "code",
   "execution_count": 20,
   "id": "a6a2f1f8-5708-423c-aa9e-43b508c95bd8",
   "metadata": {},
   "outputs": [
    {
     "name": "stdout",
     "output_type": "stream",
     "text": [
      "epoch 0: train - 0.3762 val: - 0.1557\n",
      "epoch 50: train - 0.0014 val: - 0.0521\n",
      "epoch 100: train - 0.0011 val: - 0.047\n",
      "epoch 150: train - 0.0011 val: - 0.0469\n",
      "epoch 200: train - 0.0011 val: - 0.047\n",
      "epoch 250: train - 0.0011 val: - 0.0471\n",
      "epoch 300: train - 0.0011 val: - 0.0472\n"
     ]
    },
    {
     "name": "stderr",
     "output_type": "stream",
     "text": [
      "/Users/ryak/anaconda3/envs/dev/lib/python3.10/site-packages/torch/nn/modules/loss.py:536: UserWarning: Using a target size (torch.Size([122])) that is different to the input size (torch.Size([122, 1])). This will likely lead to incorrect results due to broadcasting. Please ensure they have the same size.\n",
      "  return F.mse_loss(input, target, reduction=self.reduction)\n"
     ]
    },
    {
     "name": "stdout",
     "output_type": "stream",
     "text": [
      "epoch 350: train - 0.0011 val: - 0.0472\n",
      "epoch 400: train - 0.0011 val: - 0.0473\n",
      "epoch 450: train - 0.0011 val: - 0.0474\n"
     ]
    }
   ],
   "source": [
    "import sys\n",
    "import copy\n",
    "\n",
    "# Train the RNN model\n",
    "optimizer = torch.optim.Adam(params = model.parameters(), lr = learning_rate)\n",
    "mse_loss = torch.nn.MSELoss()\n",
    "best_model = None\n",
    "min_val_loss = sys.maxsize\n",
    "\n",
    "training_loss = []\n",
    "validation_loss = []\n",
    "\n",
    "for t in range(training_epochs):\n",
    "    \n",
    "    prediction, _ = model(x_train) #_ means store the 1st element for prediction and disgard the 2nd element.\n",
    "    \n",
    "    #Reshape y_train to match prediction before calculating loss\n",
    "    y_train_reshaped = y_train.unsqueeze(1)  # Add a new dimension of size 1\n",
    "    \n",
    "    loss = mse_loss(prediction, y_train_reshaped) #added y_train_reshaped\n",
    "    \n",
    "    optimizer.zero_grad()\n",
    "    loss.backward()\n",
    "    optimizer.step()\n",
    "    \n",
    "    val_prediction, _ = model(x_val)\n",
    "    val_loss = mse_loss(val_prediction, y_val)\n",
    "    \n",
    "    training_loss.append(loss.item())\n",
    "    validation_loss.append(val_loss.item())\n",
    "    \n",
    "    if val_loss.item() < min_val_loss:\n",
    "        best_model = copy.deepcopy(model)\n",
    "        min_val_loss = val_loss.item()\n",
    "        \n",
    "    if t % 50 == 0:\n",
    "        print(f'epoch {t}: train - {round(loss.item(), 4)}', f'val: - {round(val_loss.item(), 4)}')"
   ]
  },
  {
   "cell_type": "code",
   "execution_count": 21,
   "id": "321a071f-aa75-41f0-91a1-8735aa26a705",
   "metadata": {},
   "outputs": [],
   "source": [
    "#Evaluate the RNN Model: Pass the 'warm'hidden state through each iteration\n",
    "\n",
    "best_model.eval() # set to evaluation mode - disables dropout and normalization, etc.\n",
    "\n",
    "_, h_list = best_model(x_val) #evaluates the best model on the x_val (validation set)\n",
    "\n",
    "# Warm hidden state\n",
    "h = (h_list[-1, :]).unsqueeze(-2) #.unsqueeze reshapes tensor to match the input shape of model. \n",
    "rnn_predicted =[]\n",
    "\n",
    "for test_seq in x_test.tolist():\n",
    "    \n",
    "    x = torch.Tensor(data = [test_seq]) #each test_seq represents a sequence of input data.\n",
    "    \n",
    "    # Passing hidden state through each iteration\n",
    "    y, h = best_model(x, h.unsqueeze(-2)) #x is current input and warm hidden state is h.\n",
    "    \n",
    "    unscaled = scaler.inverse_transform(np.array(y.item()).reshape(-1,1))[0][0]\n",
    "    #inversely scales the predicted y to its original scale and np.reshapes the 1D array into a 2D array with 1 column for the scaler.\n",
    "    \n",
    "    rnn_predicted.append(unscaled)"
   ]
  },
  {
   "cell_type": "code",
   "execution_count": 22,
   "id": "be1b5d62-dab3-4c4f-8f64-8d338b5507c5",
   "metadata": {},
   "outputs": [
    {
     "data": {
      "image/png": "[encoded data removed]",
      "text/plain": [
       "<Figure size 640x480 with 1 Axes>"
      ]
     },
     "metadata": {},
     "output_type": "display_data"
    }
   ],
   "source": [
    "# Performance on the test dataset\n",
    "\n",
    "real = scaler.inverse_transform(y_test.reshape(-1, 1))\n",
    "#inversely scales the y_test to original scale and converts it to a python list to display in visualization\n",
    "\n",
    "plt.title(\"Test dataset\")\n",
    "plt.plot(real, label = 'real')\n",
    "plt.plot(rnn_predicted, label = 'predicted')\n",
    "plt.legend()\n",
    "plt.show()"
   ]
  },
  {
   "cell_type": "code",
   "execution_count": 23,
   "id": "02478093-e071-412e-b291-9e400640a870",
   "metadata": {},
   "outputs": [
    {
     "data": {
      "image/png": "[encoded data removed]",
      "text/plain": [
       "<Figure size 640x480 with 1 Axes>"
      ]
     },
     "metadata": {},
     "output_type": "display_data"
    }
   ],
   "source": [
    "# Examine RNN training process\n",
    "\n",
    "plt.title(\"Training\")\n",
    "plt.yscale('log')\n",
    "plt.plot(training_loss, label = \"train loss\")\n",
    "plt.plot(validation_loss, label = \"val loss\")\n",
    "plt.ylabel('Loss')\n",
    "plt.xlabel('Epoch')\n",
    "plt.legend()\n",
    "plt.show()"
   ]
  },
  {
   "cell_type": "code",
   "execution_count": 24,
   "id": "ada340fe-bdcc-4b4e-80ce-d74e5ec8f67b",
   "metadata": {},
   "outputs": [
    {
     "name": "stdout",
     "output_type": "stream",
     "text": [
      "RNN MSE: 0.025092890486121178\n"
     ]
    }
   ],
   "source": [
    "# Attempt at calculating the best model MSE\n",
    "from sklearn.metrics import mean_squared_error\n",
    "\n",
    "best_model.eval()\n",
    "test_prediction, _ = best_model(x_test)\n",
    "\n",
    "#Convert tensors to numpy arrays\n",
    "y_test_np = y_test.detach().numpy()\n",
    "test_prediction_np = test_prediction.detach().numpy()\n",
    "\n",
    "# Calculating the accuracy score\n",
    "#threshold = 0.1\n",
    "mse = mean_squared_error(y_test_np, test_prediction_np)\n",
    "\n",
    "print(f\"RNN MSE: {mse}\")"
   ]
  },
  {
   "cell_type": "code",
   "execution_count": 25,
   "id": "823e3a4b-2234-4984-a056-dcda93094dbf",
   "metadata": {
    "tags": []
   },
   "outputs": [
    {
     "name": "stdout",
     "output_type": "stream",
     "text": [
      "RNN R-Squared: 0.13634574285155066\n"
     ]
    }
   ],
   "source": [
    "#Attempt at calculating the best model R-squared score\n",
    "from sklearn.metrics import r2_score\n",
    "\n",
    "r2 = r2_score(y_test_np, test_prediction_np)\n",
    "\n",
    "print(f\"RNN R-Squared: {r2}\")"
   ]
  },
  {
   "cell_type": "markdown",
   "id": "a7925ab2-704d-4934-9eef-d5b56e44f005",
   "metadata": {},
   "source": [
    "#Lookup TimeSeriesTransformer"
   ]
  },
  {
   "cell_type": "code",
   "execution_count": 26,
   "id": "da25fc48-608d-4352-92ac-dcfdf864d45b",
   "metadata": {
    "tags": []
   },
   "outputs": [
    {
     "name": "stdout",
     "output_type": "stream",
     "text": [
      "RUNNING THE L-BFGS-B CODE\n",
      "\n",
      "           * * *\n",
      "\n",
      "Machine precision = 2.220D-16\n",
      " N =            5     M =           10\n",
      "\n",
      "At X0         0 variables are exactly at the bounds\n",
      "\n",
      "At iterate    0    f=  2.90509D-01    |proj g|=  4.12235D+00\n",
      "\n",
      "At iterate    1    f=  1.45638D-01    |proj g|=  5.08380D-01\n",
      "\n",
      "At iterate    2    f=  8.26772D-02    |proj g|=  5.10742D-01\n",
      "\n",
      "At iterate    3    f=  1.25267D-02    |proj g|=  1.29687D+00\n",
      "\n",
      "At iterate    4    f= -5.07579D-02    |proj g|=  1.80694D+00\n",
      "\n",
      "At iterate    5    f= -1.28179D-01    |proj g|=  1.75056D-01\n",
      "\n",
      "At iterate    6    f= -1.37901D-01    |proj g|=  1.41868D-01\n",
      "\n",
      "At iterate    7    f= -1.48159D-01    |proj g|=  2.78294D-01\n",
      "\n",
      "At iterate    8    f= -1.50411D-01    |proj g|=  3.38282D-02\n",
      "\n",
      "At iterate    9    f= -1.50605D-01    |proj g|=  2.14902D-02\n",
      "\n",
      "At iterate   10    f= -1.50693D-01    |proj g|=  2.80074D-02\n",
      "\n",
      "At iterate   11    f= -1.50998D-01    |proj g|=  3.85858D-02\n",
      "\n",
      "At iterate   12    f= -1.51158D-01    |proj g|=  2.51007D-02\n",
      "\n",
      "At iterate   13    f= -1.51417D-01    |proj g|=  1.19614D-02\n",
      "\n",
      "At iterate   14    f= -1.51668D-01    |proj g|=  4.35559D-02\n",
      "\n",
      "At iterate   15    f= -1.52229D-01    |proj g|=  8.01468D-02\n",
      "\n",
      "At iterate   16    f= -1.53156D-01    |proj g|=  6.96578D-02\n",
      "\n",
      "At iterate   17    f= -1.53251D-01    |proj g|=  1.35338D-01\n",
      "\n",
      "At iterate   18    f= -1.54165D-01    |proj g|=  5.28275D-02\n",
      "\n",
      "At iterate   19    f= -1.54882D-01    |proj g|=  2.59742D-02\n",
      "\n",
      "At iterate   20    f= -1.55983D-01    |proj g|=  7.94880D-02\n",
      "\n",
      "At iterate   21    f= -1.57079D-01    |proj g|=  1.12519D-01\n",
      "\n",
      "At iterate   22    f= -1.59531D-01    |proj g|=  2.16022D-01\n",
      "\n",
      "At iterate   23    f= -1.61046D-01    |proj g|=  1.79254D-01\n",
      "\n",
      "At iterate   24    f= -1.65124D-01    |proj g|=  5.88509D-02\n",
      "\n",
      "At iterate   25    f= -1.68854D-01    |proj g|=  4.07180D-02\n",
      "\n",
      "At iterate   26    f= -1.74383D-01    |proj g|=  2.15066D-02\n",
      "\n",
      "At iterate   27    f= -1.75994D-01    |proj g|=  2.50020D-02\n",
      "\n",
      "At iterate   28    f= -1.76078D-01    |proj g|=  1.03752D-01\n",
      "\n",
      "At iterate   29    f= -1.76866D-01    |proj g|=  5.41808D-02\n",
      "\n",
      "At iterate   30    f= -1.77887D-01    |proj g|=  1.91517D-02\n",
      "\n",
      "At iterate   31    f= -1.78708D-01    |proj g|=  1.21287D-02\n",
      "\n",
      "At iterate   32    f= -1.79104D-01    |proj g|=  4.02811D-03\n",
      "\n",
      "At iterate   33    f= -1.79311D-01    |proj g|=  8.25906D-03\n",
      "\n",
      "At iterate   34    f= -1.79357D-01    |proj g|=  6.56485D-03\n",
      "\n",
      "At iterate   35    f= -1.79428D-01    |proj g|=  2.44773D-03\n",
      "\n",
      "At iterate   36    f= -1.79501D-01    |proj g|=  1.45121D-03\n",
      "\n",
      "At iterate   37    f= -1.79510D-01    |proj g|=  1.70046D-02\n",
      "\n",
      "At iterate   38    f= -1.79535D-01    |proj g|=  9.16501D-03\n",
      "\n",
      "At iterate   39    f= -1.79543D-01    |proj g|=  1.67779D-02\n",
      "\n",
      "At iterate   40    f= -1.79546D-01    |proj g|=  3.35674D-04\n",
      "\n",
      "At iterate   41    f= -1.79547D-01    |proj g|=  3.02229D-04\n",
      "\n",
      "At iterate   42    f= -1.79555D-01    |proj g|=  2.44676D-03\n",
      "\n",
      "At iterate   43    f= -1.79556D-01    |proj g|=  1.03781D-03\n",
      "\n",
      "At iterate   44    f= -1.79557D-01    |proj g|=  3.08626D-04\n",
      "\n",
      "At iterate   45    f= -1.79557D-01    |proj g|=  2.46370D-04\n",
      "\n",
      "At iterate   46    f= -1.79557D-01    |proj g|=  4.67358D-05\n",
      "\n",
      "At iterate   47    f= -1.79557D-01    |proj g|=  4.68071D-05\n",
      "\n",
      "           * * *\n",
      "\n",
      "Tit   = total number of iterations\n",
      "Tnf   = total number of function evaluations\n",
      "Tnint = total number of segments explored during Cauchy searches\n",
      "Skip  = number of BFGS updates skipped\n",
      "Nact  = number of active bounds at final generalized Cauchy point\n",
      "Projg = norm of the final projected gradient\n",
      "F     = final function value\n",
      "\n",
      "           * * *\n",
      "\n",
      "   N    Tit     Tnf  Tnint  Skip  Nact     Projg        F\n",
      "    5     47     68      1     0     0   4.681D-05  -1.796D-01\n",
      "  F = -0.17955676013244903     \n",
      "\n",
      "CONVERGENCE: REL_REDUCTION_OF_F_<=_FACTR*EPSMCH             \n"
     ]
    },
    {
     "name": "stderr",
     "output_type": "stream",
     "text": [
      "/Users/ryak/anaconda3/envs/dev/lib/python3.10/site-packages/statsmodels/tsa/statespace/sarimax.py:966: UserWarning: Non-stationary starting autoregressive parameters found. Using zeros as starting parameters.\n",
      "  warn('Non-stationary starting autoregressive parameters'\n",
      "/Users/ryak/anaconda3/envs/dev/lib/python3.10/site-packages/statsmodels/tsa/statespace/sarimax.py:978: UserWarning: Non-invertible starting MA parameters found. Using zeros as starting parameters.\n",
      "  warn('Non-invertible starting MA parameters found.'\n",
      " This problem is unconstrained.\n"
     ]
    }
   ],
   "source": [
    "#Improve the SARIMA model to produce multiple predictions and graph them\n",
    "\n",
    "#UR is the dataset and specific time period\n",
    "from_date = '1948-01-01'\n",
    "to_date = '2024-02-01'\n",
    "\n",
    "UR = df['UNRATE'].loc[from_date:to_date].values\n",
    "\n",
    "#Train the SARIMA model, but split the train and test sets\n",
    "split_ratio = 0.80 #80% for training\n",
    "train_size = int(len(UR) * split_ratio)\n",
    "train, test = UR[:train_size], UR[train_size:]\n",
    "\n",
    "#Lag by 3 periods, differencing order = 1, moving average window = 1\n",
    "#seasonal_order set to 0 indicating no seasons\n",
    "model = SARIMAX(train, order =(3,2,1), seasonal_order = (0,0,0,0))\n",
    "\n",
    "#specific length of forecast in # of steps\n",
    "steps_to_forecast = 12 #12 months\n",
    "\n",
    "SAR_results = model.fit(disp = True)\n",
    "\n",
    "#Define steps to forecast and change to float\n",
    "SAR_forecast = SAR_results.forecast(steps = steps_to_forecast).astype(float)\n",
    "\n",
    "SAR_predicted = SAR_forecast"
   ]
  },
  {
   "cell_type": "code",
   "execution_count": 27,
   "id": "cf090efd-731c-438d-9654-d27bd09f5ada",
   "metadata": {
    "tags": []
   },
   "outputs": [
    {
     "name": "stdout",
     "output_type": "stream",
     "text": [
      "[6.91671785 7.07512324 7.16770162 7.23645187 7.29472056 7.33444738\n",
      " 7.36661224 7.39176597 7.41137284 7.42760966 7.44101805 7.45245519]\n"
     ]
    }
   ],
   "source": [
    "#Print the SAR_predicted values for the forecast into the future\n",
    "print(SAR_predicted)"
   ]
  },
  {
   "cell_type": "markdown",
   "id": "92604864-8526-482f-b66f-0cdc3e679f67",
   "metadata": {},
   "source": [
    "## THIS SARIMA CODE IS WORKING: LOOK AT THE FORECASTS AND THE PARAMETERS"
   ]
  },
  {
   "cell_type": "code",
   "execution_count": 28,
   "id": "6e3d7447-2f0b-4eb4-97a1-a87f29d9181b",
   "metadata": {
    "tags": []
   },
   "outputs": [
    {
     "name": "stdout",
     "output_type": "stream",
     "text": [
      "RUNNING THE L-BFGS-B CODE\n",
      "\n",
      "           * * *\n",
      "\n",
      "Machine precision = 2.220D-16\n",
      " N =            7     M =           10\n",
      "\n",
      "At X0         0 variables are exactly at the bounds\n",
      "\n",
      "At iterate    0    f=  5.50593D-01    |proj g|=  2.32565D-02\n",
      "\n",
      "At iterate    1    f=  5.50561D-01    |proj g|=  5.24066D-03\n",
      "\n",
      "At iterate    2    f=  5.50555D-01    |proj g|=  4.39106D-03\n",
      "\n",
      "At iterate    3    f=  5.50537D-01    |proj g|=  1.69713D-03\n",
      "\n",
      "At iterate    4    f=  5.50533D-01    |proj g|=  1.94188D-03\n",
      "\n",
      "At iterate    5    f=  5.50499D-01    |proj g|=  3.40441D-03\n",
      "\n",
      "At iterate    6    f=  5.50467D-01    |proj g|=  3.63116D-03\n",
      "\n",
      "At iterate    7    f=  5.50394D-01    |proj g|=  5.61491D-03\n",
      "\n",
      "At iterate    8    f=  5.50382D-01    |proj g|=  5.46009D-03\n",
      "\n",
      "At iterate    9    f=  5.50349D-01    |proj g|=  2.07005D-03\n",
      "\n",
      "At iterate   10    f=  5.50345D-01    |proj g|=  5.73217D-04\n",
      "\n",
      "At iterate   11    f=  5.50345D-01    |proj g|=  2.33454D-04\n",
      "\n",
      "At iterate   12    f=  5.50344D-01    |proj g|=  3.60466D-04\n",
      "\n",
      "At iterate   13    f=  5.50344D-01    |proj g|=  5.66480D-04\n",
      "\n",
      "At iterate   14    f=  5.50344D-01    |proj g|=  4.01370D-03\n",
      "\n",
      "At iterate   15    f=  5.50342D-01    |proj g|=  1.05430D-03\n",
      "\n",
      "At iterate   16    f=  5.50339D-01    |proj g|=  3.29348D-03\n",
      "\n",
      "At iterate   17    f=  5.50329D-01    |proj g|=  1.08317D-02\n",
      "\n",
      "At iterate   18    f=  5.50305D-01    |proj g|=  2.19667D-02\n",
      "\n",
      "At iterate   19    f=  5.50235D-01    |proj g|=  4.01090D-02\n"
     ]
    },
    {
     "name": "stderr",
     "output_type": "stream",
     "text": [
      " This problem is unconstrained.\n"
     ]
    },
    {
     "name": "stdout",
     "output_type": "stream",
     "text": [
      "\n",
      "At iterate   20    f=  5.50037D-01    |proj g|=  7.69600D-02\n",
      "\n",
      "At iterate   21    f=  5.49997D-01    |proj g|=  8.52351D-02\n",
      "\n",
      "At iterate   22    f=  5.49800D-01    |proj g|=  7.79687D-02\n",
      "\n",
      "At iterate   23    f=  5.48959D-01    |proj g|=  1.75914D-02\n",
      "\n",
      "At iterate   24    f=  5.48756D-01    |proj g|=  5.00965D-02\n",
      "\n",
      "At iterate   25    f=  5.48561D-01    |proj g|=  4.68400D-02\n",
      "\n",
      "At iterate   26    f=  5.47866D-01    |proj g|=  1.85116D-02\n",
      "\n",
      "At iterate   27    f=  5.47545D-01    |proj g|=  1.05925D-02\n",
      "\n",
      "At iterate   28    f=  5.47111D-01    |proj g|=  5.32875D-03\n",
      "\n",
      "At iterate   29    f=  5.46592D-01    |proj g|=  3.30784D-02\n",
      "\n",
      "At iterate   30    f=  5.46251D-01    |proj g|=  2.39687D-02\n",
      "\n",
      "At iterate   31    f=  5.45682D-01    |proj g|=  1.07692D-02\n",
      "\n",
      "At iterate   32    f=  5.45389D-01    |proj g|=  6.72287D-03\n",
      "\n",
      "At iterate   33    f=  5.45245D-01    |proj g|=  1.07844D-02\n",
      "\n",
      "At iterate   34    f=  5.45235D-01    |proj g|=  2.65540D-03\n",
      "\n",
      "At iterate   35    f=  5.45229D-01    |proj g|=  2.35292D-03\n",
      "\n",
      "At iterate   36    f=  5.45208D-01    |proj g|=  2.25902D-03\n",
      "\n",
      "At iterate   37    f=  5.45127D-01    |proj g|=  4.33482D-03\n",
      "\n",
      "At iterate   38    f=  5.45034D-01    |proj g|=  3.42667D-03\n",
      "\n",
      "At iterate   39    f=  5.44995D-01    |proj g|=  9.19505D-04\n",
      "\n",
      "At iterate   40    f=  5.44993D-01    |proj g|=  2.81499D-04\n",
      "\n",
      "At iterate   41    f=  5.44993D-01    |proj g|=  1.92691D-04\n",
      "\n",
      "At iterate   42    f=  5.44992D-01    |proj g|=  1.91107D-04\n",
      "\n",
      "At iterate   43    f=  5.44988D-01    |proj g|=  6.29963D-04\n",
      "\n",
      "At iterate   44    f=  5.44985D-01    |proj g|=  2.54294D-03\n",
      "\n",
      "At iterate   45    f=  5.44982D-01    |proj g|=  6.71017D-03\n",
      "\n",
      "At iterate   46    f=  5.44976D-01    |proj g|=  2.29919D-03\n",
      "\n",
      "At iterate   47    f=  5.44969D-01    |proj g|=  1.11971D-03\n",
      "\n",
      "At iterate   48    f=  5.44967D-01    |proj g|=  6.43270D-04\n",
      "\n",
      "At iterate   49    f=  5.44967D-01    |proj g|=  6.31922D-04\n",
      "\n",
      "At iterate   50    f=  5.44966D-01    |proj g|=  1.70508D-04\n",
      "\n",
      "           * * *\n",
      "\n",
      "Tit   = total number of iterations\n",
      "Tnf   = total number of function evaluations\n",
      "Tnint = total number of segments explored during Cauchy searches\n",
      "Skip  = number of BFGS updates skipped\n",
      "Nact  = number of active bounds at final generalized Cauchy point\n",
      "Projg = norm of the final projected gradient\n",
      "F     = final function value\n",
      "\n",
      "           * * *\n",
      "\n",
      "   N    Tit     Tnf  Tnint  Skip  Nact     Projg        F\n",
      "    7     50     66      1     0     0   1.705D-04   5.450D-01\n",
      "  F =  0.54496634515180065     \n",
      "\n",
      "STOP: TOTAL NO. of ITERATIONS REACHED LIMIT                 \n",
      "Predicted SARIMA UR on 2024-02-01 00:00:00: 3.74\n",
      "Predicted SARIMA UR on 2024-03-01 00:00:00: 3.73\n",
      "Predicted SARIMA UR on 2024-04-01 00:00:00: 3.84\n",
      "Predicted SARIMA UR on 2024-05-01 00:00:00: 3.85\n",
      "Predicted SARIMA UR on 2024-06-01 00:00:00: 3.92\n",
      "Predicted SARIMA UR on 2024-07-01 00:00:00: 3.97\n",
      "Predicted SARIMA UR on 2024-08-01 00:00:00: 4.0\n",
      "Predicted SARIMA UR on 2024-09-01 00:00:00: 4.08\n",
      "Predicted SARIMA UR on 2024-10-01 00:00:00: 4.08\n",
      "Predicted SARIMA UR on 2024-11-01 00:00:00: 4.18\n",
      "Predicted SARIMA UR on 2024-12-01 00:00:00: 4.16\n",
      "Predicted SARIMA UR on 2025-01-01 00:00:00: 4.26\n"
     ]
    },
    {
     "name": "stderr",
     "output_type": "stream",
     "text": [
      "/Users/ryak/anaconda3/envs/dev/lib/python3.10/site-packages/statsmodels/base/model.py:604: ConvergenceWarning: Maximum Likelihood optimization failed to converge. Check mle_retvals\n",
      "  warnings.warn(\"Maximum Likelihood optimization failed to \"\n"
     ]
    }
   ],
   "source": [
    "#Trying SARIMA with orginal code and attempting to forecast 12 months into the future\n",
    "\n",
    "#Set the dataset to train\n",
    "from_date = '1948-01-01'\n",
    "to_date = '2024-02-01'\n",
    "\n",
    "UR = df['UNRATE'].loc[from_date:to_date].values\n",
    "\n",
    "#Train the SARIMA model\n",
    "train, test = UR[:-12], UR[-12] #Exclude the last 12 months from training\n",
    "\n",
    "#Lag by 3 periods, differencing order = 1, moving average window = 2\n",
    "#seasonal_order set to 0 indicating no seasons\n",
    "model = SARIMAX(train, order =(3,1,3), seasonal_order = (0,0,0,0))\n",
    "\n",
    "SAR_results = model.fit(disp = 1)\n",
    "SAR_forecast = SAR_results.forecast(steps = 12)\n",
    "SAR_predicted = SAR_forecast\n",
    "\n",
    "# Print or use the predictions as needed\n",
    "for i in range(12):\n",
    "    predicted_date = pd.to_datetime(to_date) + pd.DateOffset(months=i)\n",
    "    print(f\"Predicted SARIMA UR on {predicted_date}: {round(SAR_predicted[i], 2)}\")"
   ]
  },
  {
   "cell_type": "code",
   "execution_count": 29,
   "id": "939ce6ca-178c-4166-939f-633738bd0095",
   "metadata": {
    "tags": []
   },
   "outputs": [
    {
     "data": {
      "image/png": "[encoded data removed]",
      "text/plain": [
       "<Figure size 640x480 with 1 Axes>"
      ]
     },
     "metadata": {},
     "output_type": "display_data"
    }
   ],
   "source": [
    "#Plot the predicted SARIMA UR rates\n",
    "\n",
    "# Extract actual unemployment rate (if available) for comparison (optional)\n",
    "actual_UR = df['UNRATE'].loc[from_date: pd.to_datetime(to_date) + pd.DateOffset(months=11)]  # Include one extra month for plotting\n",
    "\n",
    "# Generate predicted dates for plotting\n",
    "predicted_dates = [pd.to_datetime(to_date) + pd.DateOffset(months=i) for i in range(12)]  # Adjust for 12-month forecast\n",
    "\n",
    "# Plot actual UR (if available)\n",
    "if 'actual_UR' in locals():\n",
    "  plt.plot(actual_UR.index, actual_UR.values, label='Actual UR')\n",
    "\n",
    "# Plot predicted UR\n",
    "plt.plot(predicted_dates, SAR_predicted, label='Predicted UR')\n",
    "\n",
    "# Set labels and title\n",
    "plt.xlabel('Date')\n",
    "plt.ylabel('Unemployment Rate')\n",
    "plt.title('Unemployment Rate Forecast (SARIMA)')\n",
    "\n",
    "# Add legend (if actual UR is plotted)\n",
    "if 'actual_UR' in locals():\n",
    "  plt.legend()\n",
    "\n",
    "# Rotate x-axis labels for better readability (optional)\n",
    "plt.xticks(rotation=45)\n",
    "\n",
    "# Show the plot\n",
    "plt.grid(True)\n",
    "plt.tight_layout()\n",
    "plt.show()"
   ]
  },
  {
   "cell_type": "markdown",
   "id": "28b44eee-5e57-4ad9-9de2-85072cfe6138",
   "metadata": {},
   "source": [
    "## ATTEMPT AT OPTUNA TRIAL FOR SARIMA FORECAST MODEL"
   ]
  },
  {
   "cell_type": "code",
   "execution_count": 30,
   "id": "f79a177e-3fc2-4f19-b4c4-c8a7b709edd8",
   "metadata": {
    "tags": []
   },
   "outputs": [],
   "source": [
    "import optuna\n",
    "from sklearn.metrics import mean_absolute_error"
   ]
  },
  {
   "cell_type": "code",
   "execution_count": 31,
   "id": "cf4a0d1b",
   "metadata": {
    "tags": []
   },
   "outputs": [],
   "source": [
    "#Load the data into the trial:\n",
    "from_date = '1948-01-01'\n",
    "to_date = '2024-02-01'\n",
    "\n",
    "UR = df['UNRATE'].loc[from_date:to_date].values\n",
    "\n",
    "#Reshape the data for 2-D array\n",
    "#UR = UR.reshape(-1, 1)\n",
    "\n",
    "#Optuna trial:\n",
    "def objective(trial, UR):\n",
    "    \n",
    "    # Suggest p, d, q values within a reasonable range\n",
    "    p = trial.suggest_int(\"p\", 0, 12)\n",
    "    d = trial.suggest_int(\"d\", 0, 12)\n",
    "    q = trial.suggest_int(\"q\", 0, 12)\n",
    "    \n",
    "    # Train the SARIMA model with suggested parameters\n",
    "    train, test = UR[:-12], UR[-12:]\n",
    "    model = SARIMAX(train, order=(p, d, q)) #Note: do NOT try to trial seasonal parameters! \n",
    "    model_fit = model.fit(disp=0)\n",
    "    \n",
    "    # Calculate Mean Absolute Error (MAE)\n",
    "    # Generate predictions for the test set\n",
    "    preds = model_fit.forecast(steps=12)  # Obtain predictions\n",
    "    mae = mean_absolute_error(test, preds)  # Calculate MAE\n",
    "\n",
    "    return mae  # Return MAE for optimization\n",
    "\n",
    "# Optuna study\n",
    "study = optuna.create_study(\n",
    "    storage =\"sqlite:///SARIMA.sqlite3\",\n",
    "    study_name = \"SARIMA_20\")\n",
    "\n",
    "# Optimize Study\n",
    "study.optimize(lambda trial: objective(trial, UR), n_trials=50)\n",
    "\n",
    "#Access best params and best trial\n",
    "best_params = study.best_params\n",
    "best_trial = study.best_trial"
   ]
  },
  {
   "cell_type": "code",
   "execution_count": 32,
   "id": "ef02563b-c5b0-495d-871e-205481e6bd9c",
   "metadata": {
    "tags": []
   },
   "outputs": [
    {
     "name": "stdout",
     "output_type": "stream",
     "text": [
      "<class 'numpy.ndarray'> (914,)\n"
     ]
    }
   ],
   "source": [
    "print(type(UR), UR.shape)"
   ]
  },
  {
   "cell_type": "code",
   "execution_count": 33,
   "id": "8fa7efe3-d0f1-44e5-9234-f7190ad40195",
   "metadata": {
    "tags": []
   },
   "outputs": [
    {
     "name": "stdout",
     "output_type": "stream",
     "text": [
      "{'p': 5, 'd': 3, 'q': 1}\n"
     ]
    }
   ],
   "source": [
    "print(best_params)"
   ]
  },
  {
   "cell_type": "code",
   "execution_count": 34,
   "id": "8cb622be-ab7c-4a2e-859b-8032d4970056",
   "metadata": {
    "tags": []
   },
   "outputs": [
    {
     "name": "stdout",
     "output_type": "stream",
     "text": [
      "FrozenTrial(number=30, state=TrialState.COMPLETE, values=[0.09621682394199345], datetime_start=datetime.datetime(2024, 4, 13, 8, 26, 3, 267733), datetime_complete=datetime.datetime(2024, 4, 13, 8, 26, 3, 990512), params={'p': 5, 'd': 3, 'q': 1}, user_attrs={}, system_attrs={}, intermediate_values={}, distributions={'p': IntDistribution(high=12, log=False, low=0, step=1), 'd': IntDistribution(high=12, log=False, low=0, step=1), 'q': IntDistribution(high=12, log=False, low=0, step=1)}, trial_id=439, value=None)\n"
     ]
    }
   ],
   "source": [
    "print(best_trial)"
   ]
  },
  {
   "cell_type": "markdown",
   "id": "4f4b2af9-9016-44ae-845c-8a184a7a5849",
   "metadata": {},
   "source": [
    "## SARIMA MODEL WITH OPTUNA TRIAL OPTIMIZED PARAMETERS:12 MONTH FORECAST"
   ]
  },
  {
   "cell_type": "code",
   "execution_count": 36,
   "id": "2326fa6e-d6c4-441e-8fda-7647fb5a29c0",
   "metadata": {},
   "outputs": [
    {
     "name": "stderr",
     "output_type": "stream",
     "text": [
      " This problem is unconstrained.\n"
     ]
    },
    {
     "name": "stdout",
     "output_type": "stream",
     "text": [
      "RUNNING THE L-BFGS-B CODE\n",
      "\n",
      "           * * *\n",
      "\n",
      "Machine precision = 2.220D-16\n",
      " N =           13     M =           10\n",
      "\n",
      "At X0         0 variables are exactly at the bounds\n",
      "\n",
      "At iterate    0    f=  1.58583D+00    |proj g|=  2.14799D+00\n",
      "\n",
      "At iterate    1    f=  1.44284D+00    |proj g|=  4.40140D-01\n",
      "\n",
      "At iterate    2    f=  1.17065D+00    |proj g|=  2.80332D-01\n",
      "\n",
      "At iterate    3    f=  1.12097D+00    |proj g|=  2.34456D-01\n",
      "\n",
      "At iterate    4    f=  1.08736D+00    |proj g|=  2.61774D-01\n",
      "\n",
      "At iterate    5    f=  1.00470D+00    |proj g|=  4.88728D-01\n",
      "\n",
      "At iterate    6    f=  9.05162D-01    |proj g|=  1.71066D-01\n",
      "\n",
      "At iterate    7    f=  8.80058D-01    |proj g|=  2.49313D-01\n",
      "\n",
      "At iterate    8    f=  8.49485D-01    |proj g|=  1.11771D-01\n",
      "\n",
      "At iterate    9    f=  8.36148D-01    |proj g|=  5.94894D-02\n",
      "\n",
      "At iterate   10    f=  8.34685D-01    |proj g|=  9.05366D-02\n",
      "\n",
      "At iterate   11    f=  8.31225D-01    |proj g|=  3.60382D-02\n",
      "\n",
      "At iterate   12    f=  8.30349D-01    |proj g|=  2.16443D-02\n",
      "\n",
      "At iterate   13    f=  8.29635D-01    |proj g|=  2.56643D-02\n",
      "\n",
      "At iterate   14    f=  8.28273D-01    |proj g|=  4.24385D-02\n",
      "\n",
      "At iterate   15    f=  8.26361D-01    |proj g|=  4.46332D-02\n",
      "\n",
      "At iterate   16    f=  8.22732D-01    |proj g|=  5.30702D-02\n",
      "\n",
      "At iterate   17    f=  8.21181D-01    |proj g|=  3.67016D-02\n",
      "\n",
      "At iterate   18    f=  8.19441D-01    |proj g|=  1.89832D-02\n",
      "\n",
      "At iterate   19    f=  8.18364D-01    |proj g|=  1.97892D-02\n",
      "\n",
      "At iterate   20    f=  8.17569D-01    |proj g|=  5.48560D-02\n",
      "\n",
      "At iterate   21    f=  8.16755D-01    |proj g|=  2.02878D-02\n",
      "\n",
      "At iterate   22    f=  8.15755D-01    |proj g|=  2.60877D-02\n",
      "\n",
      "At iterate   23    f=  8.13977D-01    |proj g|=  6.25064D-02\n",
      "\n",
      "At iterate   24    f=  8.11664D-01    |proj g|=  9.05130D-02\n",
      "\n",
      "At iterate   25    f=  8.09581D-01    |proj g|=  9.82962D-02\n",
      "\n",
      "At iterate   26    f=  8.02084D-01    |proj g|=  9.27778D-02\n",
      "\n",
      "At iterate   27    f=  7.91690D-01    |proj g|=  9.81613D-02\n",
      "\n",
      "At iterate   28    f=  7.83828D-01    |proj g|=  1.52699D-01\n",
      "\n",
      "At iterate   29    f=  7.68173D-01    |proj g|=  1.98127D-01\n",
      "\n",
      "At iterate   30    f=  7.41422D-01    |proj g|=  2.36199D-01\n",
      "\n",
      "At iterate   31    f=  7.08892D-01    |proj g|=  1.62628D-01\n",
      "\n",
      "At iterate   32    f=  6.90838D-01    |proj g|=  6.65529D-01\n",
      "\n",
      "At iterate   33    f=  6.71436D-01    |proj g|=  1.01742D-01\n",
      "\n",
      "At iterate   34    f=  6.68969D-01    |proj g|=  1.63149D-01\n",
      "\n",
      "At iterate   35    f=  6.62352D-01    |proj g|=  5.17788D-02\n",
      "\n",
      "At iterate   36    f=  6.57500D-01    |proj g|=  8.89017D-02\n",
      "\n",
      "At iterate   37    f=  6.53542D-01    |proj g|=  9.06270D-02\n",
      "\n",
      "At iterate   38    f=  6.48761D-01    |proj g|=  1.19102D-01\n",
      "\n",
      "At iterate   39    f=  6.42696D-01    |proj g|=  1.49798D-02\n",
      "\n",
      "At iterate   40    f=  6.41213D-01    |proj g|=  1.12303D-02\n",
      "\n",
      "At iterate   41    f=  6.39524D-01    |proj g|=  5.94186D-03\n",
      "\n",
      "At iterate   42    f=  6.38254D-01    |proj g|=  2.57556D-02\n",
      "\n",
      "At iterate   43    f=  6.37712D-01    |proj g|=  2.78183D-02\n",
      "\n",
      "At iterate   44    f=  6.37516D-01    |proj g|=  3.46630D-02\n",
      "\n",
      "At iterate   45    f=  6.37432D-01    |proj g|=  5.49779D-03\n",
      "\n",
      "At iterate   46    f=  6.37388D-01    |proj g|=  1.70724D-02\n",
      "\n",
      "At iterate   47    f=  6.37230D-01    |proj g|=  1.01644D-02\n",
      "\n",
      "At iterate   48    f=  6.37230D-01    |proj g|=  9.08720D-03\n",
      "\n",
      "At iterate   49    f=  6.37229D-01    |proj g|=  1.35817D-02\n"
     ]
    },
    {
     "name": "stderr",
     "output_type": "stream",
     "text": [
      "/Users/ryak/anaconda3/envs/dev/lib/python3.10/site-packages/statsmodels/base/model.py:604: ConvergenceWarning: Maximum Likelihood optimization failed to converge. Check mle_retvals\n",
      "  warnings.warn(\"Maximum Likelihood optimization failed to \"\n"
     ]
    },
    {
     "name": "stdout",
     "output_type": "stream",
     "text": [
      "\n",
      "At iterate   50    f=  6.37213D-01    |proj g|=  5.46660D-03\n",
      "\n",
      "           * * *\n",
      "\n",
      "Tit   = total number of iterations\n",
      "Tnf   = total number of function evaluations\n",
      "Tnint = total number of segments explored during Cauchy searches\n",
      "Skip  = number of BFGS updates skipped\n",
      "Nact  = number of active bounds at final generalized Cauchy point\n",
      "Projg = norm of the final projected gradient\n",
      "F     = final function value\n",
      "\n",
      "           * * *\n",
      "\n",
      "   N    Tit     Tnf  Tnint  Skip  Nact     Projg        F\n",
      "   13     50     85      1     0     0   5.467D-03   6.372D-01\n",
      "  F =  0.63721315427412784     \n",
      "\n",
      "STOP: TOTAL NO. of ITERATIONS REACHED LIMIT                 \n",
      "Predicted SARIMA UR on 2024-02-01 00:00:00: 3.63\n",
      "Predicted SARIMA UR on 2024-03-01 00:00:00: 3.56\n",
      "Predicted SARIMA UR on 2024-04-01 00:00:00: 3.6\n",
      "Predicted SARIMA UR on 2024-05-01 00:00:00: 3.61\n",
      "Predicted SARIMA UR on 2024-06-01 00:00:00: 3.63\n",
      "Predicted SARIMA UR on 2024-07-01 00:00:00: 3.66\n",
      "Predicted SARIMA UR on 2024-08-01 00:00:00: 3.71\n",
      "Predicted SARIMA UR on 2024-09-01 00:00:00: 3.73\n",
      "Predicted SARIMA UR on 2024-10-01 00:00:00: 3.75\n",
      "Predicted SARIMA UR on 2024-11-01 00:00:00: 3.78\n",
      "Predicted SARIMA UR on 2024-12-01 00:00:00: 3.8\n",
      "Predicted SARIMA UR on 2025-01-01 00:00:00: 3.82\n"
     ]
    },
    {
     "ename": "IndexError",
     "evalue": "index 12 is out of bounds for axis 0 with size 12",
     "output_type": "error",
     "traceback": [
      "\u001b[0;31m---------------------------------------------------------------------------\u001b[0m",
      "\u001b[0;31mIndexError\u001b[0m                                Traceback (most recent call last)",
      "Cell \u001b[0;32mIn[36], line 18\u001b[0m\n\u001b[1;32m     16\u001b[0m \u001b[38;5;28;01mfor\u001b[39;00m i \u001b[38;5;129;01min\u001b[39;00m \u001b[38;5;28mrange\u001b[39m(\u001b[38;5;241m24\u001b[39m):\n\u001b[1;32m     17\u001b[0m     predicted_date \u001b[38;5;241m=\u001b[39m pd\u001b[38;5;241m.\u001b[39mto_datetime(to_date) \u001b[38;5;241m+\u001b[39m pd\u001b[38;5;241m.\u001b[39mDateOffset(months\u001b[38;5;241m=\u001b[39mi)\n\u001b[0;32m---> 18\u001b[0m     \u001b[38;5;28mprint\u001b[39m(\u001b[38;5;124mf\u001b[39m\u001b[38;5;124m\"\u001b[39m\u001b[38;5;124mPredicted SARIMA UR on \u001b[39m\u001b[38;5;132;01m{\u001b[39;00mpredicted_date\u001b[38;5;132;01m}\u001b[39;00m\u001b[38;5;124m: \u001b[39m\u001b[38;5;132;01m{\u001b[39;00m\u001b[38;5;28mround\u001b[39m(SAR_predicted[i],\u001b[38;5;250m \u001b[39m\u001b[38;5;241m2\u001b[39m)\u001b[38;5;132;01m}\u001b[39;00m\u001b[38;5;124m\"\u001b[39m)\n",
      "\u001b[0;31mIndexError\u001b[0m: index 12 is out of bounds for axis 0 with size 12"
     ]
    }
   ],
   "source": [
    "#Train the SARIMA model\n",
    "train, test = UR[:-12], UR[-12] #Exclude the last 12 months from training\n",
    "\n",
    "#NEW:\n",
    "# Seasonal_order: p=seasonal auto regressive, d=seasonal differencing, q=seasonal moving average, s=seasonality\n",
    "seasonal_order = (1, 0, 1, 12)  # (p, d, q, s) #assumes December seasonality\n",
    "\n",
    "#OPTUNA Best trial parameters: 7=lag, 4=difference_order, 3=moving_average\n",
    "model = SARIMAX(train, order =(7,4,3), seasonal_order = seasonal_order)\n",
    "\n",
    "SAR_results = model.fit(disp = 1)\n",
    "SAR_forecast = SAR_results.forecast(steps = 12)\n",
    "SAR_predicted = SAR_forecast\n",
    "\n",
    "# Print or use the predictions as needed\n",
    "for i in range(24):\n",
    "    predicted_date = pd.to_datetime(to_date) + pd.DateOffset(months=i)\n",
    "    print(f\"Predicted SARIMA UR on {predicted_date}: {round(SAR_predicted[i], 2)}\")"
   ]
  },
  {
   "cell_type": "code",
   "execution_count": 37,
   "id": "fa204eec-e45c-496e-8b7c-d18fbd587dc0",
   "metadata": {
    "tags": []
   },
   "outputs": [
    {
     "data": {
      "image/png": "[encoded data removed]",
      "text/plain": [
       "<Figure size 640x480 with 1 Axes>"
      ]
     },
     "metadata": {},
     "output_type": "display_data"
    }
   ],
   "source": [
    "#Graph the 12 month predictions for Unemployment with SARIMA model\n",
    "\n",
    "# Extract actual unemployment rate (if available) for comparison (optional)\n",
    "actual_UR = df['UNRATE'].loc[from_date: pd.to_datetime(to_date) + pd.DateOffset(months=11)]  # Include one extra month for plotting\n",
    "\n",
    "# Generate predicted dates for plotting\n",
    "predicted_dates = [pd.to_datetime(to_date) + pd.DateOffset(months=i) for i in range(12)]  # Adjust for 12-month forecast\n",
    "\n",
    "# Plot actual UR (if available)\n",
    "if 'actual_UR' in locals():\n",
    "  plt.plot(actual_UR.index, actual_UR.values, label='Actual UR')\n",
    "\n",
    "# Plot predicted UR\n",
    "plt.plot(predicted_dates, SAR_predicted, label='Predicted UR')\n",
    "\n",
    "# Set labels and title\n",
    "plt.xlabel('Date')\n",
    "plt.ylabel('Unemployment Rate')\n",
    "plt.title('Unemployment Rate Forecast (SARIMA)')\n",
    "\n",
    "# Add legend (if actual UR is plotted)\n",
    "if 'actual_UR' in locals():\n",
    "  plt.legend()\n",
    "\n",
    "# Rotate x-axis labels for better readability (optional)\n",
    "plt.xticks(rotation=45)\n",
    "\n",
    "# Show the plot\n",
    "plt.grid(True)\n",
    "plt.tight_layout()\n",
    "plt.show()"
   ]
  },
  {
   "cell_type": "code",
   "execution_count": 38,
   "id": "d545c7bd-0d14-4897-a633-e2639d06fe07",
   "metadata": {
    "tags": []
   },
   "outputs": [
    {
     "name": "stderr",
     "output_type": "stream",
     "text": [
      "/Users/ryak/anaconda3/envs/dev/lib/python3.10/site-packages/statsmodels/base/model.py:604: ConvergenceWarning: Maximum Likelihood optimization failed to converge. Check mle_retvals\n",
      "  warnings.warn(\"Maximum Likelihood optimization failed to \"\n"
     ]
    },
    {
     "data": {
      "image/png": "[encoded data removed]",
      "text/plain": [
       "<Figure size 640x480 with 1 Axes>"
      ]
     },
     "metadata": {},
     "output_type": "display_data"
    }
   ],
   "source": [
    "#Attempt to calculate the 24 month predictions and graph AGAINST actual\n",
    "\n",
    "#Train the SARIMA model\n",
    "train, test = UR[:-24], UR[-24] #Exclude the last 24 months from training\n",
    "\n",
    "# Seasonal Order (assuming seasonality in December)\n",
    "seasonal_order = (1, 0, 1, 12)  # (p, d, q, s)\n",
    "\n",
    "# Best trial parameters from Optuna (replace with your best parameters)\n",
    "model = SARIMAX(train, order=(7, 2, 3), seasonal_order=seasonal_order)\n",
    "\n",
    "# Fit the SARIMA model\n",
    "SAR_results = model.fit(disp=0)\n",
    "\n",
    "# Forecast for the next 24 months\n",
    "SAR_forecast = SAR_results.forecast(steps=24)\n",
    "SAR_predicted = SAR_forecast\n",
    "\n",
    "# Extract actual unemployment rate for comparison\n",
    "actual_UR = df['UNRATE'].loc[from_date: to_date]\n",
    "\n",
    "# Generate predicted dates for plotting\n",
    "predicted_dates = [pd.to_datetime(to_date) + pd.DateOffset(months=i) for i in range(24)]\n",
    "\n",
    "# Plot actual and predicted unemployment rates\n",
    "plt.plot(actual_UR.index, actual_UR.values, label='Actual UR')\n",
    "plt.plot(predicted_dates, SAR_predicted, label='Predicted UR')\n",
    "\n",
    "# Set labels and title\n",
    "plt.xlabel('Date')\n",
    "plt.ylabel('Unemployment Rate')\n",
    "plt.title('Unemployment Rate (Actual vs. Predicted)')\n",
    "\n",
    "# Add legend\n",
    "plt.legend()\n",
    "\n",
    "# Rotate x-axis labels for readability (optional)\n",
    "plt.xticks(rotation=45)\n",
    "\n",
    "# Show the plot\n",
    "plt.grid(True)\n",
    "plt.tight_layout()\n",
    "plt.show()"
   ]
  },
  {
   "cell_type": "code",
   "execution_count": 39,
   "id": "d2b6bef7-b3c9-4404-a9c2-3b9d9bf36980",
   "metadata": {
    "tags": []
   },
   "outputs": [
    {
     "name": "stdout",
     "output_type": "stream",
     "text": [
      "[3.91484527 3.60387833 3.74605546 3.72086128 3.79005059 3.84510452\n",
      " 3.82858564 3.93303107 3.85349282 3.96422107 3.87267355 3.96071503\n",
      " 3.90551334 3.81210951 3.85720339 3.82683709 3.91947767 3.85886162\n",
      " 3.96033557 3.899994   3.96287914 3.94094648 3.93923794 3.97835551]\n"
     ]
    }
   ],
   "source": [
    "print(SAR_predicted)"
   ]
  },
  {
   "cell_type": "markdown",
   "id": "83d9cd7a-6ada-4f90-aba7-76435d4622c8",
   "metadata": {},
   "source": [
    "## 2nd ROUND OF SARIMA: Optuna Trial for 24 months, 100 trials"
   ]
  },
  {
   "cell_type": "code",
   "execution_count": 40,
   "id": "adaa86a2-0337-43e0-9264-5ba3b998d8c9",
   "metadata": {
    "tags": []
   },
   "outputs": [
    {
     "name": "stderr",
     "output_type": "stream",
     "text": [
      "[I 2024-04-13 08:47:23,602] A new study created in RDB with name: SARIMA_04\n",
      "/Users/ryak/anaconda3/envs/dev/lib/python3.10/site-packages/statsmodels/base/model.py:604: ConvergenceWarning: Maximum Likelihood optimization failed to converge. Check mle_retvals\n",
      "  warnings.warn(\"Maximum Likelihood optimization failed to \"\n",
      "[I 2024-04-13 08:47:33,377] Trial 0 finished with value: 40.10793866749993 and parameters: {'p': 8, 'd': 6, 'q': 5}. Best is trial 0 with value: 40.10793866749993.\n",
      "/Users/ryak/anaconda3/envs/dev/lib/python3.10/site-packages/statsmodels/tsa/statespace/sarimax.py:978: UserWarning: Non-invertible starting MA parameters found. Using zeros as starting parameters.\n",
      "  warn('Non-invertible starting MA parameters found.'\n",
      "/Users/ryak/anaconda3/envs/dev/lib/python3.10/site-packages/statsmodels/base/model.py:604: ConvergenceWarning: Maximum Likelihood optimization failed to converge. Check mle_retvals\n",
      "  warnings.warn(\"Maximum Likelihood optimization failed to \"\n",
      "[I 2024-04-13 08:47:43,397] Trial 1 finished with value: 0.18957107055677822 and parameters: {'p': 6, 'd': 3, 'q': 7}. Best is trial 1 with value: 0.18957107055677822.\n",
      "/Users/ryak/anaconda3/envs/dev/lib/python3.10/site-packages/statsmodels/tsa/statespace/sarimax.py:966: UserWarning: Non-stationary starting autoregressive parameters found. Using zeros as starting parameters.\n",
      "  warn('Non-stationary starting autoregressive parameters'\n",
      "/Users/ryak/anaconda3/envs/dev/lib/python3.10/site-packages/statsmodels/tsa/statespace/sarimax.py:978: UserWarning: Non-invertible starting MA parameters found. Using zeros as starting parameters.\n",
      "  warn('Non-invertible starting MA parameters found.'\n",
      "/Users/ryak/anaconda3/envs/dev/lib/python3.10/site-packages/statsmodels/base/model.py:604: ConvergenceWarning: Maximum Likelihood optimization failed to converge. Check mle_retvals\n",
      "  warnings.warn(\"Maximum Likelihood optimization failed to \"\n",
      "[I 2024-04-13 08:47:56,347] Trial 2 finished with value: 2.6192486389784366 and parameters: {'p': 11, 'd': 3, 'q': 3}. Best is trial 1 with value: 0.18957107055677822.\n",
      "/Users/ryak/anaconda3/envs/dev/lib/python3.10/site-packages/statsmodels/tsa/statespace/sarimax.py:978: UserWarning: Non-invertible starting MA parameters found. Using zeros as starting parameters.\n",
      "  warn('Non-invertible starting MA parameters found.'\n",
      "/Users/ryak/anaconda3/envs/dev/lib/python3.10/site-packages/statsmodels/base/model.py:604: ConvergenceWarning: Maximum Likelihood optimization failed to converge. Check mle_retvals\n",
      "  warnings.warn(\"Maximum Likelihood optimization failed to \"\n",
      "[I 2024-04-13 08:48:21,178] Trial 3 finished with value: 36.17751517130451 and parameters: {'p': 12, 'd': 8, 'q': 12}. Best is trial 1 with value: 0.18957107055677822.\n",
      "/Users/ryak/anaconda3/envs/dev/lib/python3.10/site-packages/statsmodels/tsa/statespace/sarimax.py:978: UserWarning: Non-invertible starting MA parameters found. Using zeros as starting parameters.\n",
      "  warn('Non-invertible starting MA parameters found.'\n",
      "IOStream.flush timed out\n",
      "IOStream.flush timed out\n",
      "/Users/ryak/anaconda3/envs/dev/lib/python3.10/site-packages/statsmodels/base/model.py:604: ConvergenceWarning: Maximum Likelihood optimization failed to converge. Check mle_retvals\n",
      "  warnings.warn(\"Maximum Likelihood optimization failed to \"\n",
      "[I 2024-04-13 09:09:54,313] Trial 4 finished with value: 1.2602403628216338e+17 and parameters: {'p': 2, 'd': 11, 'q': 9}. Best is trial 1 with value: 0.18957107055677822.\n",
      "[I 2024-04-13 09:09:54,358] Trial 5 finished with value: 3340.0708333338152 and parameters: {'p': 0, 'd': 5, 'q': 0}. Best is trial 1 with value: 0.18957107055677822.\n",
      "/Users/ryak/anaconda3/envs/dev/lib/python3.10/site-packages/statsmodels/tsa/statespace/sarimax.py:978: UserWarning: Non-invertible starting MA parameters found. Using zeros as starting parameters.\n",
      "  warn('Non-invertible starting MA parameters found.'\n",
      "/Users/ryak/anaconda3/envs/dev/lib/python3.10/site-packages/statsmodels/base/model.py:604: ConvergenceWarning: Maximum Likelihood optimization failed to converge. Check mle_retvals\n",
      "  warnings.warn(\"Maximum Likelihood optimization failed to \"\n",
      "[I 2024-04-13 09:09:59,417] Trial 6 finished with value: 0.14621453695594872 and parameters: {'p': 8, 'd': 3, 'q': 11}. Best is trial 6 with value: 0.14621453695594872.\n",
      "/Users/ryak/anaconda3/envs/dev/lib/python3.10/site-packages/statsmodels/tsa/statespace/sarimax.py:978: UserWarning: Non-invertible starting MA parameters found. Using zeros as starting parameters.\n",
      "  warn('Non-invertible starting MA parameters found.'\n",
      "/Users/ryak/anaconda3/envs/dev/lib/python3.10/site-packages/statsmodels/base/model.py:604: ConvergenceWarning: Maximum Likelihood optimization failed to converge. Check mle_retvals\n",
      "  warnings.warn(\"Maximum Likelihood optimization failed to \"\n",
      "[I 2024-04-13 09:10:04,388] Trial 7 finished with value: 9.289781329706091 and parameters: {'p': 10, 'd': 5, 'q': 11}. Best is trial 6 with value: 0.14621453695594872.\n",
      "/Users/ryak/anaconda3/envs/dev/lib/python3.10/site-packages/statsmodels/tsa/statespace/sarimax.py:966: UserWarning: Non-stationary starting autoregressive parameters found. Using zeros as starting parameters.\n",
      "  warn('Non-stationary starting autoregressive parameters'\n",
      "/Users/ryak/anaconda3/envs/dev/lib/python3.10/site-packages/statsmodels/tsa/statespace/sarimax.py:978: UserWarning: Non-invertible starting MA parameters found. Using zeros as starting parameters.\n",
      "  warn('Non-invertible starting MA parameters found.'\n",
      "/Users/ryak/anaconda3/envs/dev/lib/python3.10/site-packages/statsmodels/base/model.py:604: ConvergenceWarning: Maximum Likelihood optimization failed to converge. Check mle_retvals\n",
      "  warnings.warn(\"Maximum Likelihood optimization failed to \"\n",
      "[I 2024-04-13 09:10:10,871] Trial 8 finished with value: 32.08174765315302 and parameters: {'p': 12, 'd': 8, 'q': 8}. Best is trial 6 with value: 0.14621453695594872.\n",
      "/Users/ryak/anaconda3/envs/dev/lib/python3.10/site-packages/statsmodels/tsa/statespace/sarimax.py:966: UserWarning: Non-stationary starting autoregressive parameters found. Using zeros as starting parameters.\n",
      "  warn('Non-stationary starting autoregressive parameters'\n",
      "/Users/ryak/anaconda3/envs/dev/lib/python3.10/site-packages/statsmodels/tsa/statespace/sarimax.py:978: UserWarning: Non-invertible starting MA parameters found. Using zeros as starting parameters.\n",
      "  warn('Non-invertible starting MA parameters found.'\n",
      "/Users/ryak/anaconda3/envs/dev/lib/python3.10/site-packages/statsmodels/base/model.py:604: ConvergenceWarning: Maximum Likelihood optimization failed to converge. Check mle_retvals\n",
      "  warnings.warn(\"Maximum Likelihood optimization failed to \"\n",
      "[I 2024-04-13 09:10:14,936] Trial 9 finished with value: 0.14902716570022886 and parameters: {'p': 7, 'd': 2, 'q': 11}. Best is trial 6 with value: 0.14621453695594872.\n",
      "[I 2024-04-13 09:10:15,185] Trial 10 finished with value: 0.1710984695963195 and parameters: {'p': 4, 'd': 0, 'q': 4}. Best is trial 6 with value: 0.14621453695594872.\n",
      "/Users/ryak/anaconda3/envs/dev/lib/python3.10/site-packages/statsmodels/tsa/statespace/sarimax.py:966: UserWarning: Non-stationary starting autoregressive parameters found. Using zeros as starting parameters.\n",
      "  warn('Non-stationary starting autoregressive parameters'\n",
      "/Users/ryak/anaconda3/envs/dev/lib/python3.10/site-packages/statsmodels/tsa/statespace/sarimax.py:978: UserWarning: Non-invertible starting MA parameters found. Using zeros as starting parameters.\n",
      "  warn('Non-invertible starting MA parameters found.'\n",
      "/Users/ryak/anaconda3/envs/dev/lib/python3.10/site-packages/statsmodels/base/model.py:604: ConvergenceWarning: Maximum Likelihood optimization failed to converge. Check mle_retvals\n",
      "  warnings.warn(\"Maximum Likelihood optimization failed to \"\n",
      "[I 2024-04-13 09:10:16,846] Trial 11 finished with value: 0.15248603036689204 and parameters: {'p': 7, 'd': 0, 'q': 10}. Best is trial 6 with value: 0.14621453695594872.\n",
      "/Users/ryak/anaconda3/envs/dev/lib/python3.10/site-packages/statsmodels/base/model.py:604: ConvergenceWarning: Maximum Likelihood optimization failed to converge. Check mle_retvals\n",
      "  warnings.warn(\"Maximum Likelihood optimization failed to \"\n",
      "[I 2024-04-13 09:10:22,005] Trial 12 finished with value: 0.15725919082160797 and parameters: {'p': 9, 'd': 2, 'q': 12}. Best is trial 6 with value: 0.14621453695594872.\n",
      "/Users/ryak/anaconda3/envs/dev/lib/python3.10/site-packages/statsmodels/base/model.py:604: ConvergenceWarning: Maximum Likelihood optimization failed to converge. Check mle_retvals\n",
      "  warnings.warn(\"Maximum Likelihood optimization failed to \"\n",
      "[I 2024-04-13 09:10:24,911] Trial 13 finished with value: 0.16873704507305232 and parameters: {'p': 5, 'd': 2, 'q': 9}. Best is trial 6 with value: 0.14621453695594872.\n",
      "/Users/ryak/anaconda3/envs/dev/lib/python3.10/site-packages/statsmodels/tsa/statespace/sarimax.py:978: UserWarning: Non-invertible starting MA parameters found. Using zeros as starting parameters.\n",
      "  warn('Non-invertible starting MA parameters found.'\n",
      "/Users/ryak/anaconda3/envs/dev/lib/python3.10/site-packages/statsmodels/base/model.py:604: ConvergenceWarning: Maximum Likelihood optimization failed to converge. Check mle_retvals\n",
      "  warnings.warn(\"Maximum Likelihood optimization failed to \"\n",
      "[I 2024-04-13 09:10:27,767] Trial 14 finished with value: 1.69213386280513 and parameters: {'p': 8, 'd': 4, 'q': 7}. Best is trial 6 with value: 0.14621453695594872.\n",
      "/Users/ryak/anaconda3/envs/dev/lib/python3.10/site-packages/statsmodels/tsa/statespace/sarimax.py:966: UserWarning: Non-stationary starting autoregressive parameters found. Using zeros as starting parameters.\n",
      "  warn('Non-stationary starting autoregressive parameters'\n",
      "/Users/ryak/anaconda3/envs/dev/lib/python3.10/site-packages/statsmodels/tsa/statespace/sarimax.py:978: UserWarning: Non-invertible starting MA parameters found. Using zeros as starting parameters.\n",
      "  warn('Non-invertible starting MA parameters found.'\n",
      "/Users/ryak/anaconda3/envs/dev/lib/python3.10/site-packages/statsmodels/base/model.py:604: ConvergenceWarning: Maximum Likelihood optimization failed to converge. Check mle_retvals\n",
      "  warnings.warn(\"Maximum Likelihood optimization failed to \"\n",
      "[I 2024-04-13 09:10:29,705] Trial 15 finished with value: 0.7079747008525588 and parameters: {'p': 3, 'd': 1, 'q': 10}. Best is trial 6 with value: 0.14621453695594872.\n",
      "/Users/ryak/anaconda3/envs/dev/lib/python3.10/site-packages/statsmodels/tsa/statespace/sarimax.py:978: UserWarning: Non-invertible starting MA parameters found. Using zeros as starting parameters.\n",
      "  warn('Non-invertible starting MA parameters found.'\n",
      "/Users/ryak/anaconda3/envs/dev/lib/python3.10/site-packages/statsmodels/base/model.py:604: ConvergenceWarning: Maximum Likelihood optimization failed to converge. Check mle_retvals\n",
      "  warnings.warn(\"Maximum Likelihood optimization failed to \"\n",
      "[I 2024-04-13 09:10:40,468] Trial 16 finished with value: 93.36208268504913 and parameters: {'p': 6, 'd': 8, 'q': 12}. Best is trial 6 with value: 0.14621453695594872.\n",
      "/Users/ryak/anaconda3/envs/dev/lib/python3.10/site-packages/statsmodels/tsa/statespace/sarimax.py:966: UserWarning: Non-stationary starting autoregressive parameters found. Using zeros as starting parameters.\n",
      "  warn('Non-stationary starting autoregressive parameters'\n",
      "/Users/ryak/anaconda3/envs/dev/lib/python3.10/site-packages/statsmodels/tsa/statespace/sarimax.py:978: UserWarning: Non-invertible starting MA parameters found. Using zeros as starting parameters.\n",
      "  warn('Non-invertible starting MA parameters found.'\n",
      "[I 2024-04-13 09:10:41,984] Trial 17 finished with value: 0.20791020889741796 and parameters: {'p': 9, 'd': 2, 'q': 2}. Best is trial 6 with value: 0.14621453695594872.\n",
      "/Users/ryak/anaconda3/envs/dev/lib/python3.10/site-packages/statsmodels/tsa/statespace/sarimax.py:978: UserWarning: Non-invertible starting MA parameters found. Using zeros as starting parameters.\n",
      "  warn('Non-invertible starting MA parameters found.'\n",
      "/Users/ryak/anaconda3/envs/dev/lib/python3.10/site-packages/statsmodels/base/model.py:604: ConvergenceWarning: Maximum Likelihood optimization failed to converge. Check mle_retvals\n",
      "  warnings.warn(\"Maximum Likelihood optimization failed to \"\n",
      "[I 2024-04-13 09:10:46,763] Trial 18 finished with value: 38850.06314323689 and parameters: {'p': 7, 'd': 12, 'q': 6}. Best is trial 6 with value: 0.14621453695594872.\n",
      "/Users/ryak/anaconda3/envs/dev/lib/python3.10/site-packages/statsmodels/tsa/statespace/sarimax.py:978: UserWarning: Non-invertible starting MA parameters found. Using zeros as starting parameters.\n",
      "  warn('Non-invertible starting MA parameters found.'\n",
      "/Users/ryak/anaconda3/envs/dev/lib/python3.10/site-packages/statsmodels/base/model.py:604: ConvergenceWarning: Maximum Likelihood optimization failed to converge. Check mle_retvals\n",
      "  warnings.warn(\"Maximum Likelihood optimization failed to \"\n",
      "[I 2024-04-13 09:10:51,333] Trial 19 finished with value: 0.865404004115661 and parameters: {'p': 10, 'd': 4, 'q': 10}. Best is trial 6 with value: 0.14621453695594872.\n",
      "/Users/ryak/anaconda3/envs/dev/lib/python3.10/site-packages/statsmodels/tsa/statespace/sarimax.py:978: UserWarning: Non-invertible starting MA parameters found. Using zeros as starting parameters.\n",
      "  warn('Non-invertible starting MA parameters found.'\n",
      "/Users/ryak/anaconda3/envs/dev/lib/python3.10/site-packages/statsmodels/base/model.py:604: ConvergenceWarning: Maximum Likelihood optimization failed to converge. Check mle_retvals\n",
      "  warnings.warn(\"Maximum Likelihood optimization failed to \"\n",
      "[I 2024-04-13 09:11:03,735] Trial 20 finished with value: 455489402660722.8 and parameters: {'p': 5, 'd': 7, 'q': 9}. Best is trial 6 with value: 0.14621453695594872.\n",
      "/Users/ryak/anaconda3/envs/dev/lib/python3.10/site-packages/statsmodels/tsa/statespace/sarimax.py:966: UserWarning: Non-stationary starting autoregressive parameters found. Using zeros as starting parameters.\n",
      "  warn('Non-stationary starting autoregressive parameters'\n",
      "/Users/ryak/anaconda3/envs/dev/lib/python3.10/site-packages/statsmodels/base/model.py:604: ConvergenceWarning: Maximum Likelihood optimization failed to converge. Check mle_retvals\n",
      "  warnings.warn(\"Maximum Likelihood optimization failed to \"\n",
      "[I 2024-04-13 09:11:07,957] Trial 21 finished with value: 0.17091659864871475 and parameters: {'p': 7, 'd': 0, 'q': 11}. Best is trial 6 with value: 0.14621453695594872.\n",
      "/Users/ryak/anaconda3/envs/dev/lib/python3.10/site-packages/statsmodels/tsa/statespace/sarimax.py:966: UserWarning: Non-stationary starting autoregressive parameters found. Using zeros as starting parameters.\n",
      "  warn('Non-stationary starting autoregressive parameters'\n",
      "/Users/ryak/anaconda3/envs/dev/lib/python3.10/site-packages/statsmodels/tsa/statespace/sarimax.py:978: UserWarning: Non-invertible starting MA parameters found. Using zeros as starting parameters.\n",
      "  warn('Non-invertible starting MA parameters found.'\n",
      "/Users/ryak/anaconda3/envs/dev/lib/python3.10/site-packages/statsmodels/base/model.py:604: ConvergenceWarning: Maximum Likelihood optimization failed to converge. Check mle_retvals\n",
      "  warnings.warn(\"Maximum Likelihood optimization failed to \"\n",
      "[I 2024-04-13 09:11:09,550] Trial 22 finished with value: 0.15248603036689204 and parameters: {'p': 7, 'd': 0, 'q': 10}. Best is trial 6 with value: 0.14621453695594872.\n",
      "/Users/ryak/anaconda3/envs/dev/lib/python3.10/site-packages/statsmodels/tsa/statespace/sarimax.py:966: UserWarning: Non-stationary starting autoregressive parameters found. Using zeros as starting parameters.\n",
      "  warn('Non-stationary starting autoregressive parameters'\n",
      "/Users/ryak/anaconda3/envs/dev/lib/python3.10/site-packages/statsmodels/tsa/statespace/sarimax.py:978: UserWarning: Non-invertible starting MA parameters found. Using zeros as starting parameters.\n",
      "  warn('Non-invertible starting MA parameters found.'\n",
      "/Users/ryak/anaconda3/envs/dev/lib/python3.10/site-packages/statsmodels/base/model.py:604: ConvergenceWarning: Maximum Likelihood optimization failed to converge. Check mle_retvals\n",
      "  warnings.warn(\"Maximum Likelihood optimization failed to \"\n",
      "[I 2024-04-13 09:11:12,380] Trial 23 finished with value: 0.93905219731815 and parameters: {'p': 8, 'd': 1, 'q': 11}. Best is trial 6 with value: 0.14621453695594872.\n",
      "/Users/ryak/anaconda3/envs/dev/lib/python3.10/site-packages/statsmodels/tsa/statespace/sarimax.py:966: UserWarning: Non-stationary starting autoregressive parameters found. Using zeros as starting parameters.\n",
      "  warn('Non-stationary starting autoregressive parameters'\n",
      "/Users/ryak/anaconda3/envs/dev/lib/python3.10/site-packages/statsmodels/tsa/statespace/sarimax.py:978: UserWarning: Non-invertible starting MA parameters found. Using zeros as starting parameters.\n",
      "  warn('Non-invertible starting MA parameters found.'\n",
      "/Users/ryak/anaconda3/envs/dev/lib/python3.10/site-packages/statsmodels/base/model.py:604: ConvergenceWarning: Maximum Likelihood optimization failed to converge. Check mle_retvals\n",
      "  warnings.warn(\"Maximum Likelihood optimization failed to \"\n",
      "[I 2024-04-13 09:11:14,375] Trial 24 finished with value: 0.7800673303323338 and parameters: {'p': 6, 'd': 1, 'q': 8}. Best is trial 6 with value: 0.14621453695594872.\n",
      "/Users/ryak/anaconda3/envs/dev/lib/python3.10/site-packages/statsmodels/tsa/statespace/sarimax.py:978: UserWarning: Non-invertible starting MA parameters found. Using zeros as starting parameters.\n",
      "  warn('Non-invertible starting MA parameters found.'\n",
      "/Users/ryak/anaconda3/envs/dev/lib/python3.10/site-packages/statsmodels/base/model.py:604: ConvergenceWarning: Maximum Likelihood optimization failed to converge. Check mle_retvals\n",
      "  warnings.warn(\"Maximum Likelihood optimization failed to \"\n",
      "[I 2024-04-13 09:11:18,200] Trial 25 finished with value: 0.17382599778595242 and parameters: {'p': 9, 'd': 3, 'q': 11}. Best is trial 6 with value: 0.14621453695594872.\n",
      "/Users/ryak/anaconda3/envs/dev/lib/python3.10/site-packages/statsmodels/tsa/statespace/sarimax.py:966: UserWarning: Non-stationary starting autoregressive parameters found. Using zeros as starting parameters.\n",
      "  warn('Non-stationary starting autoregressive parameters'\n",
      "/Users/ryak/anaconda3/envs/dev/lib/python3.10/site-packages/statsmodels/tsa/statespace/sarimax.py:978: UserWarning: Non-invertible starting MA parameters found. Using zeros as starting parameters.\n",
      "  warn('Non-invertible starting MA parameters found.'\n",
      "/Users/ryak/anaconda3/envs/dev/lib/python3.10/site-packages/statsmodels/base/model.py:604: ConvergenceWarning: Maximum Likelihood optimization failed to converge. Check mle_retvals\n",
      "  warnings.warn(\"Maximum Likelihood optimization failed to \"\n",
      "[I 2024-04-13 09:11:19,835] Trial 26 finished with value: 0.14579911964178843 and parameters: {'p': 5, 'd': 1, 'q': 8}. Best is trial 26 with value: 0.14579911964178843.\n",
      "/Users/ryak/anaconda3/envs/dev/lib/python3.10/site-packages/statsmodels/tsa/statespace/sarimax.py:978: UserWarning: Non-invertible starting MA parameters found. Using zeros as starting parameters.\n",
      "  warn('Non-invertible starting MA parameters found.'\n",
      "/Users/ryak/anaconda3/envs/dev/lib/python3.10/site-packages/statsmodels/base/model.py:604: ConvergenceWarning: Maximum Likelihood optimization failed to converge. Check mle_retvals\n",
      "  warnings.warn(\"Maximum Likelihood optimization failed to \"\n",
      "[I 2024-04-13 09:11:22,355] Trial 27 finished with value: 0.7546548209810289 and parameters: {'p': 4, 'd': 4, 'q': 8}. Best is trial 26 with value: 0.14579911964178843.\n",
      "/Users/ryak/anaconda3/envs/dev/lib/python3.10/site-packages/statsmodels/base/model.py:604: ConvergenceWarning: Maximum Likelihood optimization failed to converge. Check mle_retvals\n",
      "  warnings.warn(\"Maximum Likelihood optimization failed to \"\n",
      "[I 2024-04-13 09:11:23,752] Trial 28 finished with value: 0.23510465152268112 and parameters: {'p': 2, 'd': 2, 'q': 7}. Best is trial 26 with value: 0.14579911964178843.\n",
      "/Users/ryak/anaconda3/envs/dev/lib/python3.10/site-packages/statsmodels/tsa/statespace/sarimax.py:978: UserWarning: Non-invertible starting MA parameters found. Using zeros as starting parameters.\n",
      "  warn('Non-invertible starting MA parameters found.'\n",
      "/Users/ryak/anaconda3/envs/dev/lib/python3.10/site-packages/statsmodels/base/model.py:604: ConvergenceWarning: Maximum Likelihood optimization failed to converge. Check mle_retvals\n",
      "  warnings.warn(\"Maximum Likelihood optimization failed to \"\n",
      "[I 2024-04-13 09:11:25,723] Trial 29 finished with value: 8.883699695280749 and parameters: {'p': 5, 'd': 6, 'q': 6}. Best is trial 26 with value: 0.14579911964178843.\n",
      "[I 2024-04-13 09:11:26,023] Trial 30 finished with value: 0.19603516422278924 and parameters: {'p': 0, 'd': 1, 'q': 5}. Best is trial 26 with value: 0.14579911964178843.\n",
      "/Users/ryak/anaconda3/envs/dev/lib/python3.10/site-packages/statsmodels/tsa/statespace/sarimax.py:966: UserWarning: Non-stationary starting autoregressive parameters found. Using zeros as starting parameters.\n",
      "  warn('Non-stationary starting autoregressive parameters'\n",
      "/Users/ryak/anaconda3/envs/dev/lib/python3.10/site-packages/statsmodels/tsa/statespace/sarimax.py:978: UserWarning: Non-invertible starting MA parameters found. Using zeros as starting parameters.\n",
      "  warn('Non-invertible starting MA parameters found.'\n",
      "/Users/ryak/anaconda3/envs/dev/lib/python3.10/site-packages/statsmodels/base/model.py:604: ConvergenceWarning: Maximum Likelihood optimization failed to converge. Check mle_retvals\n",
      "  warnings.warn(\"Maximum Likelihood optimization failed to \"\n",
      "[I 2024-04-13 09:11:28,123] Trial 31 finished with value: 0.15248603036689204 and parameters: {'p': 7, 'd': 0, 'q': 10}. Best is trial 26 with value: 0.14579911964178843.\n",
      "/Users/ryak/anaconda3/envs/dev/lib/python3.10/site-packages/statsmodels/tsa/statespace/sarimax.py:966: UserWarning: Non-stationary starting autoregressive parameters found. Using zeros as starting parameters.\n",
      "  warn('Non-stationary starting autoregressive parameters'\n",
      "/Users/ryak/anaconda3/envs/dev/lib/python3.10/site-packages/statsmodels/tsa/statespace/sarimax.py:978: UserWarning: Non-invertible starting MA parameters found. Using zeros as starting parameters.\n",
      "  warn('Non-invertible starting MA parameters found.'\n",
      "/Users/ryak/anaconda3/envs/dev/lib/python3.10/site-packages/statsmodels/base/model.py:604: ConvergenceWarning: Maximum Likelihood optimization failed to converge. Check mle_retvals\n",
      "  warnings.warn(\"Maximum Likelihood optimization failed to \"\n",
      "[I 2024-04-13 09:11:30,574] Trial 32 finished with value: 0.17870727396580843 and parameters: {'p': 8, 'd': 3, 'q': 9}. Best is trial 26 with value: 0.14579911964178843.\n",
      "/Users/ryak/anaconda3/envs/dev/lib/python3.10/site-packages/statsmodels/tsa/statespace/sarimax.py:978: UserWarning: Non-invertible starting MA parameters found. Using zeros as starting parameters.\n",
      "  warn('Non-invertible starting MA parameters found.'\n",
      "/Users/ryak/anaconda3/envs/dev/lib/python3.10/site-packages/statsmodels/base/model.py:604: ConvergenceWarning: Maximum Likelihood optimization failed to converge. Check mle_retvals\n",
      "  warnings.warn(\"Maximum Likelihood optimization failed to \"\n",
      "[I 2024-04-13 09:11:33,447] Trial 33 finished with value: 0.15543719306045425 and parameters: {'p': 6, 'd': 1, 'q': 11}. Best is trial 26 with value: 0.14579911964178843.\n",
      "/Users/ryak/anaconda3/envs/dev/lib/python3.10/site-packages/statsmodels/base/model.py:604: ConvergenceWarning: Maximum Likelihood optimization failed to converge. Check mle_retvals\n",
      "  warnings.warn(\"Maximum Likelihood optimization failed to \"\n",
      "[I 2024-04-13 09:11:35,652] Trial 34 finished with value: 0.148966357848255 and parameters: {'p': 4, 'd': 2, 'q': 10}. Best is trial 26 with value: 0.14579911964178843.\n",
      "/Users/ryak/anaconda3/envs/dev/lib/python3.10/site-packages/statsmodels/tsa/statespace/sarimax.py:978: UserWarning: Non-invertible starting MA parameters found. Using zeros as starting parameters.\n",
      "  warn('Non-invertible starting MA parameters found.'\n",
      "/Users/ryak/anaconda3/envs/dev/lib/python3.10/site-packages/statsmodels/base/model.py:604: ConvergenceWarning: Maximum Likelihood optimization failed to converge. Check mle_retvals\n",
      "  warnings.warn(\"Maximum Likelihood optimization failed to \"\n",
      "[I 2024-04-13 09:11:38,741] Trial 35 finished with value: 0.20200003505121886 and parameters: {'p': 4, 'd': 3, 'q': 12}. Best is trial 26 with value: 0.14579911964178843.\n",
      "/Users/ryak/anaconda3/envs/dev/lib/python3.10/site-packages/statsmodels/tsa/statespace/sarimax.py:978: UserWarning: Non-invertible starting MA parameters found. Using zeros as starting parameters.\n",
      "  warn('Non-invertible starting MA parameters found.'\n",
      "/Users/ryak/anaconda3/envs/dev/lib/python3.10/site-packages/statsmodels/base/model.py:604: ConvergenceWarning: Maximum Likelihood optimization failed to converge. Check mle_retvals\n",
      "  warnings.warn(\"Maximum Likelihood optimization failed to \"\n",
      "[I 2024-04-13 09:11:41,053] Trial 36 finished with value: 6.364283180747857 and parameters: {'p': 2, 'd': 5, 'q': 7}. Best is trial 26 with value: 0.14579911964178843.\n",
      "/Users/ryak/anaconda3/envs/dev/lib/python3.10/site-packages/statsmodels/tsa/statespace/sarimax.py:978: UserWarning: Non-invertible starting MA parameters found. Using zeros as starting parameters.\n",
      "  warn('Non-invertible starting MA parameters found.'\n",
      "/Users/ryak/anaconda3/envs/dev/lib/python3.10/site-packages/statsmodels/base/model.py:604: ConvergenceWarning: Maximum Likelihood optimization failed to converge. Check mle_retvals\n",
      "  warnings.warn(\"Maximum Likelihood optimization failed to \"\n",
      "[I 2024-04-13 09:11:47,589] Trial 37 finished with value: 1009.0046334798758 and parameters: {'p': 3, 'd': 10, 'q': 9}. Best is trial 26 with value: 0.14579911964178843.\n",
      "/Users/ryak/anaconda3/envs/dev/lib/python3.10/site-packages/statsmodels/tsa/statespace/sarimax.py:966: UserWarning: Non-stationary starting autoregressive parameters found. Using zeros as starting parameters.\n",
      "  warn('Non-stationary starting autoregressive parameters'\n",
      "/Users/ryak/anaconda3/envs/dev/lib/python3.10/site-packages/statsmodels/tsa/statespace/sarimax.py:978: UserWarning: Non-invertible starting MA parameters found. Using zeros as starting parameters.\n",
      "  warn('Non-invertible starting MA parameters found.'\n",
      "/Users/ryak/anaconda3/envs/dev/lib/python3.10/site-packages/statsmodels/base/model.py:604: ConvergenceWarning: Maximum Likelihood optimization failed to converge. Check mle_retvals\n",
      "  warnings.warn(\"Maximum Likelihood optimization failed to \"\n",
      "[I 2024-04-13 09:11:50,205] Trial 38 finished with value: 0.21524773450684598 and parameters: {'p': 5, 'd': 3, 'q': 8}. Best is trial 26 with value: 0.14579911964178843.\n",
      "/Users/ryak/anaconda3/envs/dev/lib/python3.10/site-packages/statsmodels/base/model.py:604: ConvergenceWarning: Maximum Likelihood optimization failed to converge. Check mle_retvals\n",
      "  warnings.warn(\"Maximum Likelihood optimization failed to \"\n",
      "[I 2024-04-13 09:11:53,337] Trial 39 finished with value: 0.1965686310651865 and parameters: {'p': 3, 'd': 2, 'q': 11}. Best is trial 26 with value: 0.14579911964178843.\n",
      "[I 2024-04-13 09:11:53,672] Trial 40 finished with value: 18.86162776896678 and parameters: {'p': 10, 'd': 4, 'q': 0}. Best is trial 26 with value: 0.14579911964178843.\n",
      "/Users/ryak/anaconda3/envs/dev/lib/python3.10/site-packages/statsmodels/tsa/statespace/sarimax.py:966: UserWarning: Non-stationary starting autoregressive parameters found. Using zeros as starting parameters.\n",
      "  warn('Non-stationary starting autoregressive parameters'\n",
      "/Users/ryak/anaconda3/envs/dev/lib/python3.10/site-packages/statsmodels/tsa/statespace/sarimax.py:978: UserWarning: Non-invertible starting MA parameters found. Using zeros as starting parameters.\n",
      "  warn('Non-invertible starting MA parameters found.'\n",
      "/Users/ryak/anaconda3/envs/dev/lib/python3.10/site-packages/statsmodels/base/model.py:604: ConvergenceWarning: Maximum Likelihood optimization failed to converge. Check mle_retvals\n",
      "  warnings.warn(\"Maximum Likelihood optimization failed to \"\n",
      "[I 2024-04-13 09:11:56,019] Trial 41 finished with value: 0.6840345056355622 and parameters: {'p': 7, 'd': 1, 'q': 10}. Best is trial 26 with value: 0.14579911964178843.\n",
      "/Users/ryak/anaconda3/envs/dev/lib/python3.10/site-packages/statsmodels/tsa/statespace/sarimax.py:966: UserWarning: Non-stationary starting autoregressive parameters found. Using zeros as starting parameters.\n",
      "  warn('Non-stationary starting autoregressive parameters'\n",
      "/Users/ryak/anaconda3/envs/dev/lib/python3.10/site-packages/statsmodels/base/model.py:604: ConvergenceWarning: Maximum Likelihood optimization failed to converge. Check mle_retvals\n",
      "  warnings.warn(\"Maximum Likelihood optimization failed to \"\n",
      "[I 2024-04-13 09:11:59,431] Trial 42 finished with value: 0.3748704843693578 and parameters: {'p': 6, 'd': 0, 'q': 12}. Best is trial 26 with value: 0.14579911964178843.\n",
      "/Users/ryak/anaconda3/envs/dev/lib/python3.10/site-packages/statsmodels/tsa/statespace/sarimax.py:966: UserWarning: Non-stationary starting autoregressive parameters found. Using zeros as starting parameters.\n",
      "  warn('Non-stationary starting autoregressive parameters'\n",
      "/Users/ryak/anaconda3/envs/dev/lib/python3.10/site-packages/statsmodels/tsa/statespace/sarimax.py:978: UserWarning: Non-invertible starting MA parameters found. Using zeros as starting parameters.\n",
      "  warn('Non-invertible starting MA parameters found.'\n",
      "/Users/ryak/anaconda3/envs/dev/lib/python3.10/site-packages/statsmodels/base/model.py:604: ConvergenceWarning: Maximum Likelihood optimization failed to converge. Check mle_retvals\n",
      "  warnings.warn(\"Maximum Likelihood optimization failed to \"\n",
      "[I 2024-04-13 09:12:02,874] Trial 43 finished with value: 0.11744754160476943 and parameters: {'p': 9, 'd': 2, 'q': 10}. Best is trial 43 with value: 0.11744754160476943.\n",
      "/Users/ryak/anaconda3/envs/dev/lib/python3.10/site-packages/statsmodels/tsa/statespace/sarimax.py:966: UserWarning: Non-stationary starting autoregressive parameters found. Using zeros as starting parameters.\n",
      "  warn('Non-stationary starting autoregressive parameters'\n",
      "/Users/ryak/anaconda3/envs/dev/lib/python3.10/site-packages/statsmodels/tsa/statespace/sarimax.py:978: UserWarning: Non-invertible starting MA parameters found. Using zeros as starting parameters.\n",
      "  warn('Non-invertible starting MA parameters found.'\n",
      "/Users/ryak/anaconda3/envs/dev/lib/python3.10/site-packages/statsmodels/base/model.py:604: ConvergenceWarning: Maximum Likelihood optimization failed to converge. Check mle_retvals\n",
      "  warnings.warn(\"Maximum Likelihood optimization failed to \"\n",
      "[I 2024-04-13 09:12:07,246] Trial 44 finished with value: 0.14714926281325807 and parameters: {'p': 11, 'd': 2, 'q': 8}. Best is trial 43 with value: 0.11744754160476943.\n",
      "/Users/ryak/anaconda3/envs/dev/lib/python3.10/site-packages/statsmodels/tsa/statespace/sarimax.py:966: UserWarning: Non-stationary starting autoregressive parameters found. Using zeros as starting parameters.\n",
      "  warn('Non-stationary starting autoregressive parameters'\n",
      "/Users/ryak/anaconda3/envs/dev/lib/python3.10/site-packages/statsmodels/tsa/statespace/sarimax.py:978: UserWarning: Non-invertible starting MA parameters found. Using zeros as starting parameters.\n",
      "  warn('Non-invertible starting MA parameters found.'\n",
      "/Users/ryak/anaconda3/envs/dev/lib/python3.10/site-packages/statsmodels/base/model.py:604: ConvergenceWarning: Maximum Likelihood optimization failed to converge. Check mle_retvals\n",
      "  warnings.warn(\"Maximum Likelihood optimization failed to \"\n",
      "[I 2024-04-13 09:12:10,545] Trial 45 finished with value: 0.18581302953209047 and parameters: {'p': 11, 'd': 3, 'q': 8}. Best is trial 43 with value: 0.11744754160476943.\n",
      "/Users/ryak/anaconda3/envs/dev/lib/python3.10/site-packages/statsmodels/tsa/statespace/sarimax.py:966: UserWarning: Non-stationary starting autoregressive parameters found. Using zeros as starting parameters.\n",
      "  warn('Non-stationary starting autoregressive parameters'\n",
      "/Users/ryak/anaconda3/envs/dev/lib/python3.10/site-packages/statsmodels/tsa/statespace/sarimax.py:978: UserWarning: Non-invertible starting MA parameters found. Using zeros as starting parameters.\n",
      "  warn('Non-invertible starting MA parameters found.'\n",
      "/Users/ryak/anaconda3/envs/dev/lib/python3.10/site-packages/statsmodels/base/model.py:604: ConvergenceWarning: Maximum Likelihood optimization failed to converge. Check mle_retvals\n",
      "  warnings.warn(\"Maximum Likelihood optimization failed to \"\n",
      "[I 2024-04-13 09:12:14,650] Trial 46 finished with value: 4.648892513068612 and parameters: {'p': 12, 'd': 5, 'q': 7}. Best is trial 43 with value: 0.11744754160476943.\n",
      "/Users/ryak/anaconda3/envs/dev/lib/python3.10/site-packages/statsmodels/tsa/statespace/sarimax.py:966: UserWarning: Non-stationary starting autoregressive parameters found. Using zeros as starting parameters.\n",
      "  warn('Non-stationary starting autoregressive parameters'\n",
      "/Users/ryak/anaconda3/envs/dev/lib/python3.10/site-packages/statsmodels/tsa/statespace/sarimax.py:978: UserWarning: Non-invertible starting MA parameters found. Using zeros as starting parameters.\n",
      "  warn('Non-invertible starting MA parameters found.'\n",
      "/Users/ryak/anaconda3/envs/dev/lib/python3.10/site-packages/statsmodels/base/model.py:604: ConvergenceWarning: Maximum Likelihood optimization failed to converge. Check mle_retvals\n",
      "  warnings.warn(\"Maximum Likelihood optimization failed to \"\n",
      "[I 2024-04-13 09:12:18,724] Trial 47 finished with value: 0.13506253247925906 and parameters: {'p': 11, 'd': 2, 'q': 9}. Best is trial 43 with value: 0.11744754160476943.\n",
      "/Users/ryak/anaconda3/envs/dev/lib/python3.10/site-packages/statsmodels/tsa/statespace/sarimax.py:966: UserWarning: Non-stationary starting autoregressive parameters found. Using zeros as starting parameters.\n",
      "  warn('Non-stationary starting autoregressive parameters'\n",
      "/Users/ryak/anaconda3/envs/dev/lib/python3.10/site-packages/statsmodels/tsa/statespace/sarimax.py:978: UserWarning: Non-invertible starting MA parameters found. Using zeros as starting parameters.\n",
      "  warn('Non-invertible starting MA parameters found.'\n",
      "/Users/ryak/anaconda3/envs/dev/lib/python3.10/site-packages/statsmodels/base/model.py:604: ConvergenceWarning: Maximum Likelihood optimization failed to converge. Check mle_retvals\n",
      "  warnings.warn(\"Maximum Likelihood optimization failed to \"\n",
      "[I 2024-04-13 09:12:22,377] Trial 48 finished with value: 0.19547927434760012 and parameters: {'p': 11, 'd': 3, 'q': 9}. Best is trial 43 with value: 0.11744754160476943.\n",
      "/Users/ryak/anaconda3/envs/dev/lib/python3.10/site-packages/statsmodels/tsa/statespace/sarimax.py:966: UserWarning: Non-stationary starting autoregressive parameters found. Using zeros as starting parameters.\n",
      "  warn('Non-stationary starting autoregressive parameters'\n",
      "/Users/ryak/anaconda3/envs/dev/lib/python3.10/site-packages/statsmodels/tsa/statespace/sarimax.py:978: UserWarning: Non-invertible starting MA parameters found. Using zeros as starting parameters.\n",
      "  warn('Non-invertible starting MA parameters found.'\n",
      "/Users/ryak/anaconda3/envs/dev/lib/python3.10/site-packages/statsmodels/base/model.py:604: ConvergenceWarning: Maximum Likelihood optimization failed to converge. Check mle_retvals\n",
      "  warnings.warn(\"Maximum Likelihood optimization failed to \"\n",
      "[I 2024-04-13 09:12:24,233] Trial 49 finished with value: 0.30652427370380847 and parameters: {'p': 11, 'd': 1, 'q': 5}. Best is trial 43 with value: 0.11744754160476943.\n"
     ]
    }
   ],
   "source": [
    "#Load the data into the trial:\n",
    "from_date = '1948-01-01'\n",
    "to_date = '2024-02-01'\n",
    "\n",
    "UR = df['UNRATE'].loc[from_date:to_date].values\n",
    "\n",
    "#Optuna trial #2: 24 months forecast\n",
    "def objective(trial, UR):\n",
    "    \n",
    "    # Suggest p, d, q values within a reasonable range\n",
    "    p = trial.suggest_int(\"p\", 0, 12)\n",
    "    d = trial.suggest_int(\"d\", 0, 12)\n",
    "    q = trial.suggest_int(\"q\", 0, 12)\n",
    "    \n",
    "    # Train the SARIMA model with suggested parameters\n",
    "    train, test = UR[:-24], UR[-24:]\n",
    "    model = SARIMAX(train, order=(p, d, q)) #Note: do NOT try to trial seasonal parameters! \n",
    "    model_fit = model.fit(disp=0)\n",
    "    \n",
    "    # Calculate Mean Absolute Error (MAE)\n",
    "    # Generate predictions for the test set\n",
    "    preds = model_fit.forecast(steps=24)  # Obtain predictions\n",
    "    mae = mean_absolute_error(test, preds)  # Calculate MAE\n",
    "\n",
    "    return mae  # Return MAE for optimization\n",
    "\n",
    "# Optuna study\n",
    "study = optuna.create_study(\n",
    "    storage =\"sqlite:///SARIMA_2.sqlite3\",\n",
    "    study_name = \"SARIMA_04\")\n",
    "\n",
    "# Optimize Study\n",
    "study.optimize(lambda trial: objective(trial, UR), n_trials=50)\n",
    "\n",
    "#Access best params and best trial\n",
    "best_params = study.best_params\n",
    "best_trial = study.best_trial"
   ]
  },
  {
   "cell_type": "code",
   "execution_count": 41,
   "id": "5086fecd-6ecd-4c87-bdac-904004aa38f6",
   "metadata": {
    "tags": []
   },
   "outputs": [
    {
     "name": "stdout",
     "output_type": "stream",
     "text": [
      "{'p': 9, 'd': 2, 'q': 10}\n"
     ]
    }
   ],
   "source": [
    "print(best_params)"
   ]
  },
  {
   "cell_type": "code",
   "execution_count": 42,
   "id": "b0e387e4-1c4b-47b0-92ca-d33179b87c9d",
   "metadata": {
    "tags": []
   },
   "outputs": [
    {
     "name": "stdout",
     "output_type": "stream",
     "text": [
      "FrozenTrial(number=43, state=TrialState.COMPLETE, values=[0.11744754160476943], datetime_start=datetime.datetime(2024, 4, 13, 9, 11, 59, 441803), datetime_complete=datetime.datetime(2024, 4, 13, 9, 12, 2, 870267), params={'p': 9, 'd': 2, 'q': 10}, user_attrs={}, system_attrs={}, intermediate_values={}, distributions={'p': IntDistribution(high=12, log=False, low=0, step=1), 'd': IntDistribution(high=12, log=False, low=0, step=1), 'q': IntDistribution(high=12, log=False, low=0, step=1)}, trial_id=221, value=None)\n"
     ]
    }
   ],
   "source": [
    "print(best_trial)"
   ]
  },
  {
   "cell_type": "markdown",
   "id": "acf92a01-b615-4a1b-bedf-e388ff2810b9",
   "metadata": {},
   "source": [
    "## SARIMA Optuna 24 month trial, now 24 month projection. Compare MSE score for 12 month which was 0.10% error versus 0.1267% for 24 month trial. "
   ]
  },
  {
   "cell_type": "code",
   "execution_count": 43,
   "id": "bfc89d87-5ad2-4930-a201-7aa9eb524b66",
   "metadata": {
    "tags": []
   },
   "outputs": [
    {
     "name": "stderr",
     "output_type": "stream",
     "text": [
      "/Users/ryak/anaconda3/envs/dev/lib/python3.10/site-packages/statsmodels/tsa/statespace/sarimax.py:966: UserWarning: Non-stationary starting autoregressive parameters found. Using zeros as starting parameters.\n",
      "  warn('Non-stationary starting autoregressive parameters'\n",
      "/Users/ryak/anaconda3/envs/dev/lib/python3.10/site-packages/statsmodels/tsa/statespace/sarimax.py:978: UserWarning: Non-invertible starting MA parameters found. Using zeros as starting parameters.\n",
      "  warn('Non-invertible starting MA parameters found.'\n",
      " This problem is unconstrained.\n"
     ]
    },
    {
     "name": "stdout",
     "output_type": "stream",
     "text": [
      "RUNNING THE L-BFGS-B CODE\n",
      "\n",
      "           * * *\n",
      "\n",
      "Machine precision = 2.220D-16\n",
      " N =           16     M =           10\n",
      "\n",
      "At X0         0 variables are exactly at the bounds\n",
      "\n",
      "At iterate    0    f=  5.60003D-01    |proj g|=  5.23533D-02\n",
      "\n",
      "At iterate    1    f=  5.55616D-01    |proj g|=  4.72203D-02\n",
      "\n",
      "At iterate    2    f=  5.55449D-01    |proj g|=  1.56392D-02\n",
      "\n",
      "At iterate    3    f=  5.55394D-01    |proj g|=  1.35817D-02\n",
      "\n",
      "At iterate    4    f=  5.55218D-01    |proj g|=  1.47750D-03\n",
      "\n",
      "At iterate    5    f=  5.55216D-01    |proj g|=  1.07737D-03\n",
      "\n",
      "At iterate    6    f=  5.55215D-01    |proj g|=  8.53075D-04\n",
      "\n",
      "At iterate    7    f=  5.55211D-01    |proj g|=  1.00041D-03\n",
      "\n",
      "At iterate    8    f=  5.55202D-01    |proj g|=  2.76709D-03\n",
      "\n",
      "At iterate    9    f=  5.55179D-01    |proj g|=  5.87393D-03\n",
      "\n",
      "At iterate   10    f=  5.55120D-01    |proj g|=  1.04781D-02\n",
      "\n",
      "At iterate   11    f=  5.54987D-01    |proj g|=  1.60067D-02\n",
      "\n",
      "At iterate   12    f=  5.54717D-01    |proj g|=  1.42367D-02\n",
      "\n",
      "At iterate   13    f=  5.54502D-01    |proj g|=  4.09946D-02\n",
      "\n",
      "At iterate   14    f=  5.54421D-01    |proj g|=  3.52259D-02\n",
      "\n",
      "At iterate   15    f=  5.54282D-01    |proj g|=  8.54954D-03\n",
      "\n",
      "At iterate   16    f=  5.54219D-01    |proj g|=  6.91732D-03\n",
      "\n",
      "At iterate   17    f=  5.54147D-01    |proj g|=  9.76119D-03\n",
      "\n",
      "At iterate   18    f=  5.54020D-01    |proj g|=  9.99182D-03\n",
      "\n",
      "At iterate   19    f=  5.53917D-01    |proj g|=  1.86178D-02\n",
      "\n",
      "At iterate   20    f=  5.53840D-01    |proj g|=  2.02640D-02\n",
      "\n",
      "At iterate   21    f=  5.53769D-01    |proj g|=  1.04002D-02\n",
      "\n",
      "At iterate   22    f=  5.53726D-01    |proj g|=  1.48836D-02\n",
      "\n",
      "At iterate   23    f=  5.53654D-01    |proj g|=  2.34201D-02\n",
      "\n",
      "At iterate   24    f=  5.53542D-01    |proj g|=  2.84987D-02\n",
      "\n",
      "At iterate   25    f=  5.53366D-01    |proj g|=  2.96328D-02\n",
      "\n",
      "At iterate   26    f=  5.53157D-01    |proj g|=  2.80865D-02\n",
      "\n",
      "At iterate   27    f=  5.53041D-01    |proj g|=  1.16568D-02\n",
      "\n",
      "At iterate   28    f=  5.52998D-01    |proj g|=  1.06200D-02\n",
      "\n",
      "At iterate   29    f=  5.52925D-01    |proj g|=  2.20385D-02\n",
      "\n",
      "At iterate   30    f=  5.52847D-01    |proj g|=  2.33667D-02\n",
      "\n",
      "At iterate   31    f=  5.52760D-01    |proj g|=  1.16720D-02\n",
      "\n",
      "At iterate   32    f=  5.52693D-01    |proj g|=  9.50458D-03\n",
      "\n",
      "At iterate   33    f=  5.52602D-01    |proj g|=  2.41022D-02\n",
      "\n",
      "At iterate   34    f=  5.52475D-01    |proj g|=  4.11484D-02\n",
      "\n",
      "At iterate   35    f=  5.52268D-01    |proj g|=  4.74078D-02\n",
      "\n",
      "At iterate   36    f=  5.52137D-01    |proj g|=  4.52862D-02\n",
      "\n",
      "At iterate   37    f=  5.52015D-01    |proj g|=  3.13822D-02\n",
      "\n",
      "At iterate   38    f=  5.51989D-01    |proj g|=  1.19191D-02\n",
      "\n",
      "At iterate   39    f=  5.51972D-01    |proj g|=  9.49238D-03\n",
      "\n",
      "At iterate   40    f=  5.51933D-01    |proj g|=  1.91902D-02\n",
      "\n",
      "At iterate   41    f=  5.51828D-01    |proj g|=  2.86796D-02\n",
      "\n",
      "At iterate   42    f=  5.51683D-01    |proj g|=  2.33851D-02\n",
      "\n",
      "At iterate   43    f=  5.51657D-01    |proj g|=  9.58179D-03\n",
      "\n",
      "At iterate   44    f=  5.51630D-01    |proj g|=  1.70519D-02\n",
      "\n",
      "At iterate   45    f=  5.51569D-01    |proj g|=  1.94464D-02\n",
      "\n",
      "At iterate   46    f=  5.51510D-01    |proj g|=  1.84580D-02\n",
      "\n",
      "At iterate   47    f=  5.51487D-01    |proj g|=  4.30737D-03\n",
      "\n",
      "At iterate   48    f=  5.51469D-01    |proj g|=  1.68460D-02\n",
      "\n",
      "At iterate   49    f=  5.51446D-01    |proj g|=  1.67383D-02\n",
      "\n",
      "At iterate   50    f=  5.51396D-01    |proj g|=  2.76403D-02\n",
      "\n",
      "           * * *\n",
      "\n",
      "Tit   = total number of iterations\n",
      "Tnf   = total number of function evaluations\n",
      "Tnint = total number of segments explored during Cauchy searches\n",
      "Skip  = number of BFGS updates skipped\n",
      "Nact  = number of active bounds at final generalized Cauchy point\n",
      "Projg = norm of the final projected gradient\n",
      "F     = final function value\n",
      "\n",
      "           * * *\n",
      "\n",
      "   N    Tit     Tnf  Tnint  Skip  Nact     Projg        F\n",
      "   16     50     58      1     0     0   2.764D-02   5.514D-01\n",
      "  F =  0.55139601317104092     \n",
      "\n",
      "STOP: TOTAL NO. of ITERATIONS REACHED LIMIT                 \n"
     ]
    },
    {
     "name": "stderr",
     "output_type": "stream",
     "text": [
      "/Users/ryak/anaconda3/envs/dev/lib/python3.10/site-packages/statsmodels/base/model.py:604: ConvergenceWarning: Maximum Likelihood optimization failed to converge. Check mle_retvals\n",
      "  warnings.warn(\"Maximum Likelihood optimization failed to \"\n"
     ]
    },
    {
     "name": "stdout",
     "output_type": "stream",
     "text": [
      "Predicted SARIMA UR on 2024-02-01 00:00:00: 3.84\n",
      "Predicted SARIMA UR on 2024-03-01 00:00:00: 3.55\n",
      "Predicted SARIMA UR on 2024-04-01 00:00:00: 3.65\n",
      "Predicted SARIMA UR on 2024-05-01 00:00:00: 3.87\n",
      "Predicted SARIMA UR on 2024-06-01 00:00:00: 3.9\n",
      "Predicted SARIMA UR on 2024-07-01 00:00:00: 3.93\n",
      "Predicted SARIMA UR on 2024-08-01 00:00:00: 4.09\n",
      "Predicted SARIMA UR on 2024-09-01 00:00:00: 4.23\n",
      "Predicted SARIMA UR on 2024-10-01 00:00:00: 4.19\n",
      "Predicted SARIMA UR on 2024-11-01 00:00:00: 4.21\n",
      "Predicted SARIMA UR on 2024-12-01 00:00:00: 4.36\n",
      "Predicted SARIMA UR on 2025-01-01 00:00:00: 4.44\n",
      "Predicted SARIMA UR on 2025-02-01 00:00:00: 4.36\n",
      "Predicted SARIMA UR on 2025-03-01 00:00:00: 4.19\n",
      "Predicted SARIMA UR on 2025-04-01 00:00:00: 4.37\n",
      "Predicted SARIMA UR on 2025-05-01 00:00:00: 4.39\n",
      "Predicted SARIMA UR on 2025-06-01 00:00:00: 4.38\n",
      "Predicted SARIMA UR on 2025-07-01 00:00:00: 4.55\n",
      "Predicted SARIMA UR on 2025-08-01 00:00:00: 4.67\n",
      "Predicted SARIMA UR on 2025-09-01 00:00:00: 4.64\n",
      "Predicted SARIMA UR on 2025-10-01 00:00:00: 4.65\n",
      "Predicted SARIMA UR on 2025-11-01 00:00:00: 4.79\n",
      "Predicted SARIMA UR on 2025-12-01 00:00:00: 4.82\n",
      "Predicted SARIMA UR on 2026-01-01 00:00:00: 4.77\n"
     ]
    }
   ],
   "source": [
    "#Train the SARIMA model - based on 100 trials, not 50 \n",
    "train, test = UR[:-24], UR[-24] #Exclude the last 24 months from training\n",
    "\n",
    "#NEW:\n",
    "# Seasonal_order: p=seasonal auto regressive, d=seasonal differencing, q=seasonal moving average, s=seasonality\n",
    "seasonal_order = (1, 0, 1, 12)  # (p, d, q, s) #assumes December seasonality\n",
    "\n",
    "#OPTUNA Best trial parameters: 9=lag, 1=difference_order, 4=moving_average\n",
    "model = SARIMAX(train, order =(9,1,4), seasonal_order = seasonal_order)\n",
    "\n",
    "SAR_results = model.fit(disp = 1)\n",
    "SAR_forecast = SAR_results.forecast(steps = 24)\n",
    "SAR_predicted = SAR_forecast\n",
    "\n",
    "# Print or use the predictions as needed\n",
    "for i in range(24):\n",
    "    predicted_date = pd.to_datetime(to_date) + pd.DateOffset(months=i)\n",
    "    print(f\"Predicted SARIMA UR on {predicted_date}: {round(SAR_predicted[i], 2)}\")"
   ]
  },
  {
   "cell_type": "code",
   "execution_count": 44,
   "id": "5ccea296-bb9f-4212-9f57-cecd7ad2fb5d",
   "metadata": {
    "tags": []
   },
   "outputs": [
    {
     "data": {
      "image/png": "[encoded data removed]",
      "text/plain": [
       "<Figure size 640x480 with 1 Axes>"
      ]
     },
     "metadata": {},
     "output_type": "display_data"
    }
   ],
   "source": [
    "#Graph the 24 month predictions for Unemployment with SARIMA model\n",
    "\n",
    "# Extract actual unemployment rate (if available) for comparison (optional)\n",
    "actual_UR = df['UNRATE'].loc[from_date: pd.to_datetime(to_date) + pd.DateOffset(months=11)]  # Include one extra month for plotting\n",
    "\n",
    "# Generate predicted dates for plotting\n",
    "predicted_dates = [pd.to_datetime(to_date) + pd.DateOffset(months=i) for i in range(24)]  # Adjust for 12-month forecast\n",
    "\n",
    "# Plot actual UR (if available)\n",
    "if 'actual_UR' in locals():\n",
    "  plt.plot(actual_UR.index, actual_UR.values, label='Actual UR')\n",
    "\n",
    "# Plot predicted UR\n",
    "plt.plot(predicted_dates, SAR_predicted, label='Predicted UR')\n",
    "\n",
    "# Set labels and title\n",
    "plt.xlabel('Date')\n",
    "plt.ylabel('Unemployment Rate')\n",
    "plt.title('Unemployment Rate Forecast (SARIMA)')\n",
    "\n",
    "# Add legend (if actual UR is plotted)\n",
    "if 'actual_UR' in locals():\n",
    "  plt.legend()\n",
    "\n",
    "# Rotate x-axis labels for better readability (optional)\n",
    "plt.xticks(rotation=45)\n",
    "\n",
    "# Show the plot\n",
    "plt.grid(True)\n",
    "plt.tight_layout()\n",
    "plt.show()"
   ]
  },
  {
   "cell_type": "markdown",
   "id": "956c6d18-dd23-4e45-92ab-e8af25ff9094",
   "metadata": {},
   "source": [
    "## CONCLUSION: \n",
    "## 1) SARIMA 12 month training produced a 0.10112% MSE rate. The order was 7/4/3\n",
    "## 2) SARIMA 24 month training produced a 0.1267% MSE rate. The order was 9/1/4\n",
    "## 3) The seasonal_order setting was 1/0/1/12 for both models (stating Dec annual seasonality)\n",
    "\n",
    "## 4) 12 month predicted UNRATE for SARIMA: \n",
    "#Predicted SARIMA UR on 2024-02-01 00:00:00: 3.63\n",
    "#Predicted SARIMA UR on 2024-03-01 00:00:00: 3.56\n",
    "#Predicted SARIMA UR on 2024-04-01 00:00:00: 3.6\n",
    "#Predicted SARIMA UR on 2024-05-01 00:00:00: 3.61\n",
    "#Predicted SARIMA UR on 2024-06-01 00:00:00: 3.63\n",
    "#Predicted SARIMA UR on 2024-07-01 00:00:00: 3.66\n",
    "#Predicted SARIMA UR on 2024-08-01 00:00:00: 3.71\n",
    "#Predicted SARIMA UR on 2024-09-01 00:00:00: 3.73\n",
    "#Predicted SARIMA UR on 2024-10-01 00:00:00: 3.75\n",
    "#Predicted SARIMA UR on 2024-11-01 00:00:00: 3.78\n",
    "#Predicted SARIMA UR on 2024-12-01 00:00:00: 3.8\n",
    "#Predicted SARIMA UR on 2025-01-01 00:00:00: 3.82\n",
    "\n",
    "## 4) 24 month predicted UNRATE for SARIMA:\n",
    "#Predicted SARIMA UR on 2024-02-01 00:00:00: 3.84\n",
    "#Predicted SARIMA UR on 2024-03-01 00:00:00: 3.55\n",
    "#Predicted SARIMA UR on 2024-04-01 00:00:00: 3.65\n",
    "#Predicted SARIMA UR on 2024-05-01 00:00:00: 3.87\n",
    "#Predicted SARIMA UR on 2024-06-01 00:00:00: 3.9\n",
    "#Predicted SARIMA UR on 2024-07-01 00:00:00: 3.93\n",
    "#Predicted SARIMA UR on 2024-08-01 00:00:00: 4.09\n",
    "#Predicted SARIMA UR on 2024-09-01 00:00:00: 4.23\n",
    "#Predicted SARIMA UR on 2024-10-01 00:00:00: 4.19\n",
    "#Predicted SARIMA UR on 2024-11-01 00:00:00: 4.21\n",
    "#Predicted SARIMA UR on 2024-12-01 00:00:00: 4.36\n",
    "#Predicted SARIMA UR on 2025-01-01 00:00:00: 4.44\n",
    "#Predicted SARIMA UR on 2025-02-01 00:00:00: 4.36\n",
    "#Predicted SARIMA UR on 2025-03-01 00:00:00: 4.19\n",
    "#Predicted SARIMA UR on 2025-04-01 00:00:00: 4.37\n",
    "#Predicted SARIMA UR on 2025-05-01 00:00:00: 4.39\n",
    "#Predicted SARIMA UR on 2025-06-01 00:00:00: 4.38\n",
    "#Predicted SARIMA UR on 2025-07-01 00:00:00: 4.55\n",
    "#Predicted SARIMA UR on 2025-08-01 00:00:00: 4.67\n",
    "#Predicted SARIMA UR on 2025-09-01 00:00:00: 4.64\n",
    "#Predicted SARIMA UR on 2025-10-01 00:00:00: 4.65\n",
    "#Predicted SARIMA UR on 2025-11-01 00:00:00: 4.79\n",
    "#Predicted SARIMA UR on 2025-12-01 00:00:00: 4.82\n",
    "#Predicted SARIMA UR on 2026-01-01 00:00:00: 4.77\n",
    "\n",
    "## 5) Both SARIMA models predict long-term increasing UNRATEs. The starting point for the 12-month model was 3.6% and 0.3% less than actual and the 24-month was 3.84% and 0.06% less than actual. Actual UNRATE declined from 3.9% in Feb'24 to 3.8% in Mar'24 and they declined in both the 12-month and 24-month models. \n",
    "\n",
    "## 6) The RNN model reported an MSE of 0.019%. Much lower than the SARIMA errors. Lets take a look at the predictions. \n",
    "\n",
    "## Next step: Do the LSTM model because it is generally better at capturing long-term dependencies in the data. "
   ]
  },
  {
   "cell_type": "code",
   "execution_count": 45,
   "id": "569fe0a9-642c-4792-99b3-cd931b671ca9",
   "metadata": {
    "tags": []
   },
   "outputs": [
    {
     "name": "stdout",
     "output_type": "stream",
     "text": [
      "[5.242383718490601, 5.2215354442596436, 5.055586457252502, 5.039923787117004, 5.039775729179382, 5.041107535362244, 5.0402621030807495, 5.040226697921753, 5.040199518203735, 5.040225625038147, 5.0402220487594604, 5.040221691131592, 5.040221691131592, 4.889694690704346, 4.873006701469421, 4.875569462776184, 4.87696635723114, 5.02653169631958, 4.892713785171509, 4.873474657535553, 4.8746514320373535, 4.876965284347534, 4.876054584980011, 4.8760592341423035, 4.876018285751343, 4.8760499358177185, 4.876045823097229, 4.725034594535828, 4.708515405654907, 4.711061358451843, 4.712423384189606, 4.711498200893402, 4.711491227149963, 4.711476922035217, 4.711505174636841, 4.711500883102417, 4.711500525474548, 4.560078382492065, 4.5437294244766235, 4.5462594628334045, 4.547584652900696, 4.546655714511871, 4.5466508865356445, 4.546636939048767, 4.546665549278259, 4.546661615371704, 4.5466612577438354, 4.5466612577438354, 4.546661078929901, 4.5466612577438354, 4.5466612577438354, 4.5466612577438354, 4.5466612577438354, 4.394901871681213, 4.378723323345184, 4.532951593399048, 4.550453543663025, 4.395284354686737, 4.37778902053833, 4.381220459938049, 4.382540464401245, 4.533330142498016, 4.397770047187805, 4.37907612323761, 4.380318880081177, 4.38253116607666, 4.381605267524719, 4.38161563873291, 4.381572365760803, 4.3816065192222595, 4.38160240650177, 4.381601870059967, 4.381602048873901, 4.381602048873901, 4.381602048873901, 4.381602048873901, 4.381602048873901, 4.381602048873901, 4.381601870059967, 4.381602048873901, 4.381602048873901, 4.229579448699951, 4.365559220314026, 4.232083022594452, 4.214831590652466, 4.215138792991638, 4.217315852642059, 4.216373860836029, 4.216415882110596, 4.3683395981788635, 4.23242062330246, 4.213911414146423, 4.215150594711304, 4.217327117919922, 4.216399431228638, 4.216410875320435, 4.216367781162262, 4.216402471065521, 4.216398000717163, 4.216398000717163, 4.216397643089294, 4.216397821903229, 4.216397821903229, 4.368369460105896, 5.875296354293823, 5.895332098007202, 5.560899972915649, 5.364796876907349, 5.06419563293457, 4.884828090667725, 4.722112059593201, 4.709809839725494, 4.711926639080048, 4.712386727333069, 4.7114463448524475, 4.711476564407349, 4.711481928825378, 4.560083031654358, 4.543729245662689, 4.546258926391602, 4.547584295272827, 4.394896149635315, 4.378712773323059, 4.381213665008545, 4.230507135391235, 4.365550458431244, 4.232071757316589, 4.2148067355155945, 4.215143442153931, 4.217316031455994, 4.216374039649963, 4.216415703296661, 4.216367959976196, 4.216402471065521, 4.216398358345032, 4.216398000717163, 4.216397643089294, 4.216397821903229, 4.216397643089294, 4.216397821903229, 4.216397821903229, 4.216397821903229, 4.216397643089294, 4.216397643089294, 4.216397821903229, 4.216397821903229, 4.216397821903229, 4.216397643089294, 4.216397821903229, 4.216397821903229]\n"
     ]
    }
   ],
   "source": [
    "#Print RNN predicted values\n",
    "print(rnn_predicted)"
   ]
  },
  {
   "cell_type": "code",
   "execution_count": null,
   "id": "23580091-50aa-4a4a-8fad-8d17b75b1532",
   "metadata": {},
   "outputs": [],
   "source": []
  }
 ],
 "metadata": {
  "kernelspec": {
   "display_name": "Python 3 (ipykernel)",
   "language": "python",
   "name": "python3"
  },
  "language_info": {
   "codemirror_mode": {
    "name": "ipython",
    "version": 3
   },
   "file_extension": ".py",
   "mimetype": "text/x-python",
   "name": "python",
   "nbconvert_exporter": "python",
   "pygments_lexer": "ipython3",
   "version": "3.10.13"
  },
  "widgets": {
   "application/vnd.jupyter.widget-state+json": {
    "state": {},
    "version_major": 2,
    "version_minor": 0
   }
  }
 },
 "nbformat": 4,
 "nbformat_minor": 5
}
